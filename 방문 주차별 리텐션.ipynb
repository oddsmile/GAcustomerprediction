{
 "cells": [
  {
   "cell_type": "code",
   "execution_count": 1,
   "metadata": {},
   "outputs": [],
   "source": [
    "import pandas as pd\n",
    "import numpy as np\n",
    "import seaborn as sns\n",
    "import matplotlib.pyplot as plt\n",
    "import json\n",
    "import os\n",
    "from pandas import json_normalize\n",
    "from scipy import stats\n",
    "from scipy.signal import savgol_filter"
   ]
  },
  {
   "cell_type": "code",
   "execution_count": 2,
   "metadata": {},
   "outputs": [
    {
     "name": "stderr",
     "output_type": "stream",
     "text": [
      "C:\\Users\\user\\AppData\\Local\\Temp\\ipykernel_22776\\477848715.py:1: DtypeWarning: Columns (0) have mixed types. Specify dtype option on import or set low_memory=False.\n",
      "  df = pd.read_csv(\"C:/Users/user/Desktop/GA4_project/preproccessed_df.csv\")\n"
     ]
    },
    {
     "data": {
      "text/html": [
       "<div>\n",
       "<style scoped>\n",
       "    .dataframe tbody tr th:only-of-type {\n",
       "        vertical-align: middle;\n",
       "    }\n",
       "\n",
       "    .dataframe tbody tr th {\n",
       "        vertical-align: top;\n",
       "    }\n",
       "\n",
       "    .dataframe thead th {\n",
       "        text-align: right;\n",
       "    }\n",
       "</style>\n",
       "<table border=\"1\" class=\"dataframe\">\n",
       "  <thead>\n",
       "    <tr style=\"text-align: right;\">\n",
       "      <th></th>\n",
       "      <th>fullVisitorId</th>\n",
       "      <th>visitStartTime</th>\n",
       "      <th>channelGrouping</th>\n",
       "      <th>continent</th>\n",
       "      <th>subContinent</th>\n",
       "      <th>country</th>\n",
       "      <th>city</th>\n",
       "      <th>visits</th>\n",
       "      <th>pageviews</th>\n",
       "      <th>hits</th>\n",
       "      <th>...</th>\n",
       "      <th>bounces</th>\n",
       "      <th>transactionRevenue</th>\n",
       "      <th>campaign</th>\n",
       "      <th>source</th>\n",
       "      <th>medium</th>\n",
       "      <th>keyword</th>\n",
       "      <th>browser</th>\n",
       "      <th>operatingSystem</th>\n",
       "      <th>deviceCategory</th>\n",
       "      <th>utc_time</th>\n",
       "    </tr>\n",
       "  </thead>\n",
       "  <tbody>\n",
       "    <tr>\n",
       "      <th>0</th>\n",
       "      <td>1131660440785968503</td>\n",
       "      <td>1472830385</td>\n",
       "      <td>Organic Search</td>\n",
       "      <td>Asia</td>\n",
       "      <td>Western Asia</td>\n",
       "      <td>Turkey</td>\n",
       "      <td>Izmir</td>\n",
       "      <td>1</td>\n",
       "      <td>1</td>\n",
       "      <td>1</td>\n",
       "      <td>...</td>\n",
       "      <td>1</td>\n",
       "      <td>0</td>\n",
       "      <td>(not set)</td>\n",
       "      <td>google</td>\n",
       "      <td>organic</td>\n",
       "      <td>(not provided)</td>\n",
       "      <td>Chrome</td>\n",
       "      <td>Windows</td>\n",
       "      <td>desktop</td>\n",
       "      <td>2016-09-02 15:33:05+00:00</td>\n",
       "    </tr>\n",
       "    <tr>\n",
       "      <th>1</th>\n",
       "      <td>377306020877927890</td>\n",
       "      <td>1472880147</td>\n",
       "      <td>Organic Search</td>\n",
       "      <td>Oceania</td>\n",
       "      <td>Australasia</td>\n",
       "      <td>Australia</td>\n",
       "      <td>not available in demo dataset</td>\n",
       "      <td>1</td>\n",
       "      <td>1</td>\n",
       "      <td>1</td>\n",
       "      <td>...</td>\n",
       "      <td>1</td>\n",
       "      <td>0</td>\n",
       "      <td>(not set)</td>\n",
       "      <td>google</td>\n",
       "      <td>organic</td>\n",
       "      <td>(not provided)</td>\n",
       "      <td>Firefox</td>\n",
       "      <td>Macintosh</td>\n",
       "      <td>desktop</td>\n",
       "      <td>2016-09-03 05:22:27+00:00</td>\n",
       "    </tr>\n",
       "    <tr>\n",
       "      <th>2</th>\n",
       "      <td>3895546263509774583</td>\n",
       "      <td>1472865386</td>\n",
       "      <td>Organic Search</td>\n",
       "      <td>Europe</td>\n",
       "      <td>Southern Europe</td>\n",
       "      <td>Spain</td>\n",
       "      <td>Madrid</td>\n",
       "      <td>1</td>\n",
       "      <td>1</td>\n",
       "      <td>1</td>\n",
       "      <td>...</td>\n",
       "      <td>1</td>\n",
       "      <td>0</td>\n",
       "      <td>(not set)</td>\n",
       "      <td>google</td>\n",
       "      <td>organic</td>\n",
       "      <td>(not provided)</td>\n",
       "      <td>Chrome</td>\n",
       "      <td>Windows</td>\n",
       "      <td>desktop</td>\n",
       "      <td>2016-09-03 01:16:26+00:00</td>\n",
       "    </tr>\n",
       "  </tbody>\n",
       "</table>\n",
       "<p>3 rows × 21 columns</p>\n",
       "</div>"
      ],
      "text/plain": [
       "         fullVisitorId  visitStartTime channelGrouping continent  \\\n",
       "0  1131660440785968503      1472830385  Organic Search      Asia   \n",
       "1   377306020877927890      1472880147  Organic Search   Oceania   \n",
       "2  3895546263509774583      1472865386  Organic Search    Europe   \n",
       "\n",
       "      subContinent    country                           city  visits  \\\n",
       "0     Western Asia     Turkey                          Izmir       1   \n",
       "1      Australasia  Australia  not available in demo dataset       1   \n",
       "2  Southern Europe      Spain                         Madrid       1   \n",
       "\n",
       "   pageviews  hits  ...  bounces  transactionRevenue   campaign  source  \\\n",
       "0          1     1  ...        1                   0  (not set)  google   \n",
       "1          1     1  ...        1                   0  (not set)  google   \n",
       "2          1     1  ...        1                   0  (not set)  google   \n",
       "\n",
       "    medium         keyword  browser operatingSystem deviceCategory  \\\n",
       "0  organic  (not provided)   Chrome         Windows        desktop   \n",
       "1  organic  (not provided)  Firefox       Macintosh        desktop   \n",
       "2  organic  (not provided)   Chrome         Windows        desktop   \n",
       "\n",
       "                   utc_time  \n",
       "0 2016-09-02 15:33:05+00:00  \n",
       "1 2016-09-03 05:22:27+00:00  \n",
       "2 2016-09-03 01:16:26+00:00  \n",
       "\n",
       "[3 rows x 21 columns]"
      ]
     },
     "execution_count": 2,
     "metadata": {},
     "output_type": "execute_result"
    }
   ],
   "source": [
    "df = pd.read_csv(\"C:/Users/user/Desktop/GA4_project/preproccessed_df.csv\")\n",
    "\n",
    "# 시간 단위 컬럼으로 변환\n",
    "df['utc_time'] = pd.to_datetime(df['utc_time'])\n",
    "\n",
    "df.head(3)"
   ]
  },
  {
   "cell_type": "markdown",
   "metadata": {},
   "source": [
    "## 방문 주차별 리텐션 히트맵 시각화"
   ]
  },
  {
   "cell_type": "markdown",
   "metadata": {},
   "source": [
    "- 6주간의 리텐션만 히트맵을 만드는 것으로 함\n",
    "- 기록에 남아있는 기간중 가장 방문율이 높았던 기간 6개월을 사용하기로 함 - WAU 확인"
   ]
  },
  {
   "cell_type": "code",
   "execution_count": 3,
   "metadata": {},
   "outputs": [
    {
     "data": {
      "image/png": "[encoded data removed]",
      "text/plain": [
       "<Figure size 640x480 with 1 Axes>"
      ]
     },
     "metadata": {},
     "output_type": "display_data"
    }
   ],
   "source": [
    "# 'utc_time' 컬럼을 datetime 형식으로 변환\n",
    "df['utc_time'] = pd.to_datetime(df['utc_time'])\n",
    "\n",
    "# 'utc_time' 컬럼에서 날짜를 추출하여 새로운 컬럼 추가\n",
    "df['date'] = df['utc_time'].dt.date\n",
    "\n",
    "# 주 단위로 데이터 집계\n",
    "weekly_counts = df.resample('W-Mon', on='utc_time').size()\n",
    "\n",
    "# Savitzky-Golay 필터 적용\n",
    "smoothed_weekly_counts = savgol_filter(weekly_counts.values, window_length=10, polyorder=2)\n",
    "\n",
    "# 선 그래프 그리기\n",
    "plt.plot(weekly_counts.index, smoothed_weekly_counts, label='WAU')\n",
    "plt.title('WAU (Savitzky-Golay filter apply)')\n",
    "plt.xlabel('Week')\n",
    "plt.ylabel('Visit Count')\n",
    "plt.xticks(rotation=45)\n",
    "plt.legend()\n",
    "plt.show()"
   ]
  },
  {
   "cell_type": "markdown",
   "metadata": {},
   "source": [
    "- WAU를 보면 2016년 11월과 12월이 가장 많은 접속자가 있었던 기간임을 알 수 있음"
   ]
  },
  {
   "cell_type": "markdown",
   "metadata": {},
   "source": [
    "- 샘플링한 기간 : 2016년 11월 1일 ~ 2016년 12월 13일"
   ]
  },
  {
   "cell_type": "markdown",
   "metadata": {},
   "source": [
    "1. 2016년 11월 1일부터 2016년 11월 7일까지의 기간"
   ]
  },
  {
   "cell_type": "code",
   "execution_count": 28,
   "metadata": {},
   "outputs": [
    {
     "data": {
      "text/plain": [
       "[19730, 532, 398, 289, 299, 181]"
      ]
     },
     "execution_count": 28,
     "metadata": {},
     "output_type": "execute_result"
    }
   ],
   "source": [
    "def make_list_return_user_count(df, start_date, end_date):\n",
    "    # start_date와 end_date를 datetime 형식으로 변환\n",
    "    start_date = pd.Timestamp(start_date, tz='UTC')\n",
    "    end_date = pd.Timestamp(end_date, tz='UTC')\n",
    "\n",
    "    # 해당 기간 동안 접속한 적이 있는 fullVisitorId 추출\n",
    "    visited_customers_start = df.loc[(df['utc_time'] >= start_date) & (df['utc_time'] <= end_date), 'fullVisitorId'].unique()\n",
    "\n",
    "    # 다시 접속한 유저 수를 저장할 리스트\n",
    "    return_users_count = [len(visited_customers_start)]\n",
    "\n",
    "    # 기간의 끝을 기준으로 6주간의 기간에 대한 반복\n",
    "    for i in range(1, 6):\n",
    "        # 다음 주의 시작과 끝 날짜 계산\n",
    "        next_week_start = end_date + pd.DateOffset(days=1)\n",
    "        next_week_end = end_date + pd.DateOffset(days=7)\n",
    "\n",
    "        # 해당 기간 동안 접속한 적이 있는 fullVisitorId 추출\n",
    "        visited_customers_next_week = df.loc[(df['utc_time'] >= next_week_start) & (df['utc_time'] <= next_week_end), 'fullVisitorId'].unique()\n",
    "\n",
    "        # 해당 주에 다시 접속한 유저 수를 리스트에 추가\n",
    "        return_users_count.append(len(set(visited_customers_start) & set(visited_customers_next_week)))\n",
    "\n",
    "        # 다음 주를 위해 기간 업데이트\n",
    "        end_date = next_week_end\n",
    "\n",
    "    # 6주간의 다시 접속한 유저들의 수 리스트 반환\n",
    "    return return_users_count\n",
    "\n",
    "# 함수 확인\n",
    "_2016_11_01_to_2016_11_07 = make_list_return_user_count(df, '2016-11-01', '2016-11-07')\n",
    "\n",
    "_2016_11_01_to_2016_11_07\n"
   ]
  },
  {
   "cell_type": "markdown",
   "metadata": {},
   "source": [
    "- 만든 함수를 이용해 각 주로부터 6주간의 리텐션을 담은 리스트 생성"
   ]
  },
  {
   "cell_type": "code",
   "execution_count": 31,
   "metadata": {},
   "outputs": [
    {
     "name": "stdout",
     "output_type": "stream",
     "text": [
      "[19730, 532, 398, 289, 299, 181]\n",
      "[19869, 611, 347, 389, 212, 142]\n",
      "[21318, 598, 494, 287, 232, 121]\n",
      "[20303, 651, 349, 256, 152, 106]\n",
      "[20958, 647, 362, 201, 152, 175]\n",
      "[14398, 589, 292, 180, 203, 128]\n"
     ]
    }
   ],
   "source": [
    "# 11월 1일부터 7일까지\n",
    "_2016_11_01_to_2016_11_07 = make_list_return_user_count(df, '2016-11-01', '2016-11-07')\n",
    "print(_2016_11_01_to_2016_11_07)\n",
    "\n",
    "# 11월 8일 부터 11월 14일까지\n",
    "_2016_11_08_to_2016_11_14 = make_list_return_user_count(df, '2016-11-08', '2016-11-14')\n",
    "print(_2016_11_08_to_2016_11_14)\n",
    "\n",
    "# 11월 15일 부터 11월 21일까지\n",
    "_2016_11_15_to_2016_11_21 = make_list_return_user_count(df, '2016-11-15', '2016-11-21')\n",
    "print(_2016_11_15_to_2016_11_21)\n",
    "\n",
    "# 11월 22일 부터 11월 28일까지\n",
    "_2016_11_22_to_2016_11_28 = make_list_return_user_count(df, '2016-11-22', '2016-11-28')\n",
    "print(_2016_11_22_to_2016_11_28)\n",
    "      \n",
    "# 11월 29일 부터 12월 5일까지\n",
    "_2016_11_29_to_2016_12_05 = make_list_return_user_count(df, '2016-11-29', '2016-12-05')\n",
    "print(_2016_11_29_to_2016_12_05)\n",
    "\n",
    "# 12월 6일 부터 12월 12일까지\n",
    "_2016_12_06_to_2016_12_12 = make_list_return_user_count(df, '2016-12-06', '2016-12-12')\n",
    "print(_2016_12_06_to_2016_12_12)"
   ]
  },
  {
   "cell_type": "markdown",
   "metadata": {},
   "source": [
    "- 생성한 리스트를 데이터 프레임으로 변환"
   ]
  },
  {
   "cell_type": "code",
   "execution_count": 48,
   "metadata": {},
   "outputs": [
    {
     "data": {
      "text/html": [
       "<div>\n",
       "<style scoped>\n",
       "    .dataframe tbody tr th:only-of-type {\n",
       "        vertical-align: middle;\n",
       "    }\n",
       "\n",
       "    .dataframe tbody tr th {\n",
       "        vertical-align: top;\n",
       "    }\n",
       "\n",
       "    .dataframe thead th {\n",
       "        text-align: right;\n",
       "    }\n",
       "</style>\n",
       "<table border=\"1\" class=\"dataframe\">\n",
       "  <thead>\n",
       "    <tr style=\"text-align: right;\">\n",
       "      <th></th>\n",
       "      <th>week_1</th>\n",
       "      <th>week_2</th>\n",
       "      <th>week_3</th>\n",
       "      <th>week_4</th>\n",
       "      <th>week_5</th>\n",
       "      <th>week_6</th>\n",
       "    </tr>\n",
       "  </thead>\n",
       "  <tbody>\n",
       "    <tr>\n",
       "      <th>2016_11_01 ~ 2016_11_07</th>\n",
       "      <td>19730</td>\n",
       "      <td>532</td>\n",
       "      <td>398</td>\n",
       "      <td>289</td>\n",
       "      <td>299</td>\n",
       "      <td>181</td>\n",
       "    </tr>\n",
       "    <tr>\n",
       "      <th>2016_11_08 ~ 2016_11_14</th>\n",
       "      <td>19869</td>\n",
       "      <td>611</td>\n",
       "      <td>347</td>\n",
       "      <td>389</td>\n",
       "      <td>212</td>\n",
       "      <td>142</td>\n",
       "    </tr>\n",
       "    <tr>\n",
       "      <th>2016_11_15 ~ 2016_11_21</th>\n",
       "      <td>21318</td>\n",
       "      <td>598</td>\n",
       "      <td>494</td>\n",
       "      <td>287</td>\n",
       "      <td>232</td>\n",
       "      <td>121</td>\n",
       "    </tr>\n",
       "    <tr>\n",
       "      <th>2016_11_22 ~ 2016_11_28</th>\n",
       "      <td>20303</td>\n",
       "      <td>651</td>\n",
       "      <td>349</td>\n",
       "      <td>256</td>\n",
       "      <td>152</td>\n",
       "      <td>106</td>\n",
       "    </tr>\n",
       "    <tr>\n",
       "      <th>2016_11_29 ~ 2016_12_05</th>\n",
       "      <td>20958</td>\n",
       "      <td>647</td>\n",
       "      <td>362</td>\n",
       "      <td>201</td>\n",
       "      <td>152</td>\n",
       "      <td>175</td>\n",
       "    </tr>\n",
       "    <tr>\n",
       "      <th>2016_12_06 ~ 2016_12_12</th>\n",
       "      <td>14398</td>\n",
       "      <td>589</td>\n",
       "      <td>292</td>\n",
       "      <td>180</td>\n",
       "      <td>203</td>\n",
       "      <td>128</td>\n",
       "    </tr>\n",
       "  </tbody>\n",
       "</table>\n",
       "</div>"
      ],
      "text/plain": [
       "                         week_1  week_2  week_3  week_4  week_5  week_6\n",
       "2016_11_01 ~ 2016_11_07   19730     532     398     289     299     181\n",
       "2016_11_08 ~ 2016_11_14   19869     611     347     389     212     142\n",
       "2016_11_15 ~ 2016_11_21   21318     598     494     287     232     121\n",
       "2016_11_22 ~ 2016_11_28   20303     651     349     256     152     106\n",
       "2016_11_29 ~ 2016_12_05   20958     647     362     201     152     175\n",
       "2016_12_06 ~ 2016_12_12   14398     589     292     180     203     128"
      ]
     },
     "execution_count": 48,
     "metadata": {},
     "output_type": "execute_result"
    }
   ],
   "source": [
    "# 데이터 프레임 생성 (전치하여 생성)\n",
    "weekly_retention_data = {\n",
    "    '2016_11_01 ~ 2016_11_07': _2016_11_01_to_2016_11_07,\n",
    "    '2016_11_08 ~ 2016_11_14': _2016_11_08_to_2016_11_14,\n",
    "    '2016_11_15 ~ 2016_11_21': _2016_11_15_to_2016_11_21,\n",
    "    '2016_11_22 ~ 2016_11_28': _2016_11_22_to_2016_11_28,\n",
    "    '2016_11_29 ~ 2016_12_05': _2016_11_29_to_2016_12_05,\n",
    "    '2016_12_06 ~ 2016_12_12': _2016_12_06_to_2016_12_12\n",
    "}\n",
    "\n",
    "weekly_retention = pd.DataFrame(weekly_retention_data, index=['week_1', 'week_2', 'week_3', 'week_4', 'week_5', 'week_6']).T\n",
    "\n",
    "# 결과 출력\n",
    "weekly_retention\n",
    "\n"
   ]
  },
  {
   "cell_type": "markdown",
   "metadata": {},
   "source": [
    "- 히트맵 생성"
   ]
  },
  {
   "cell_type": "code",
   "execution_count": 64,
   "metadata": {},
   "outputs": [
    {
     "data": {
      "image/png": "[encoded data removed]",
      "text/plain": [
       "<Figure size 1000x600 with 1 Axes>"
      ]
     },
     "metadata": {},
     "output_type": "display_data"
    }
   ],
   "source": [
    "# 히트맵 생성 (Blues 색상 맵 사용)\n",
    "# 히트맵 생성 (vmin 및 vmax에 숫자 직접 적용)\n",
    "plt.figure(figsize=(10, 6))\n",
    "sns.heatmap(weekly_retention, annot=False, cmap='Blues', linewidths=.5, cbar=False, vmin=100, vmax=1500)\n",
    "plt.title('Weekly Retention Heatmap (Manually Adjusted Color Contrast)')\n",
    "\n",
    "plt.show()"
   ]
  }
 ],
 "metadata": {
  "kernelspec": {
   "display_name": "Python 3",
   "language": "python",
   "name": "python3"
  },
  "language_info": {
   "codemirror_mode": {
    "name": "ipython",
    "version": 3
   },
   "file_extension": ".py",
   "mimetype": "text/x-python",
   "name": "python",
   "nbconvert_exporter": "python",
   "pygments_lexer": "ipython3",
   "version": "3.8.6"
  }
 },
 "nbformat": 4,
 "nbformat_minor": 2
}
