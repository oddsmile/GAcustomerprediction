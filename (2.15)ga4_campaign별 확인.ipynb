{
 "cells": [
  {
   "cell_type": "code",
   "execution_count": 2,
   "metadata": {},
   "outputs": [],
   "source": [
    "# 데이터 불러오기\n",
    "import pandas as pd\n",
    "\n",
    "df = pd.read_csv('C://Users//and_c//Desktop//sparta_ga4//train_df3.csv', low_memory = False)"
   ]
  },
  {
   "cell_type": "code",
   "execution_count": 3,
   "metadata": {},
   "outputs": [],
   "source": [
    "# revenue 여부를 나타내는 칼럼 추가\n",
    "df['revenue_status'] = df['totals_transactionRevenue'].copy()\n",
    "df['revenue_status'].fillna(0, inplace= True)\n",
    "df['revenue_status'] = df['revenue_status'].where(df['revenue_status'] == 0, 1)"
   ]
  },
  {
   "cell_type": "code",
   "execution_count": 4,
   "metadata": {},
   "outputs": [],
   "source": [
    "# 다룰 df 설정 camaign_df\n",
    "campaign_df = df.copy()"
   ]
  },
  {
   "cell_type": "code",
   "execution_count": 5,
   "metadata": {},
   "outputs": [
    {
     "name": "stdout",
     "output_type": "stream",
     "text": [
      "<class 'pandas.core.frame.DataFrame'>\n",
      "RangeIndex: 903653 entries, 0 to 903652\n",
      "Data columns (total 18 columns):\n",
      " #   Column                     Non-Null Count   Dtype  \n",
      "---  ------                     --------------   -----  \n",
      " 0   fullVisitorId              903653 non-null  object \n",
      " 1   channelGrouping            903653 non-null  object \n",
      " 2   visitStartTime             903653 non-null  int64  \n",
      " 3   device_browser             903653 non-null  object \n",
      " 4   device_operatingSystem     903653 non-null  object \n",
      " 5   device_deviceCategory      903653 non-null  object \n",
      " 6   geoNetwork_continent       903653 non-null  object \n",
      " 7   geoNetwork_subContinent    903653 non-null  object \n",
      " 8   geoNetwork_country         903653 non-null  object \n",
      " 9   totals_visits              903653 non-null  int64  \n",
      " 10  totals_hits                903653 non-null  int64  \n",
      " 11  totals_bounces             903653 non-null  float64\n",
      " 12  totals_newVisits           903653 non-null  float64\n",
      " 13  totals_transactionRevenue  903653 non-null  float64\n",
      " 14  trafficSource_source       903653 non-null  object \n",
      " 15  trafficSource_medium       903653 non-null  object \n",
      " 16  trafficSource_campaign     903653 non-null  object \n",
      " 17  revenue_status             903653 non-null  float64\n",
      "dtypes: float64(4), int64(3), object(11)\n",
      "memory usage: 124.1+ MB\n"
     ]
    }
   ],
   "source": [
    "campaign_df.info()"
   ]
  },
  {
   "cell_type": "code",
   "execution_count": 35,
   "metadata": {},
   "outputs": [],
   "source": [
    "# campaign에 따른 user접속수\n",
    "campaign_visit = campaign_df.groupby('trafficSource_campaign')['fullVisitorId'].count()"
   ]
  },
  {
   "cell_type": "code",
   "execution_count": 34,
   "metadata": {},
   "outputs": [],
   "source": [
    "# campaign에 따른 user수\n",
    "campaign_num_user = campaign_df.groupby('trafficSource_campaign')['fullVisitorId'].nunique()"
   ]
  },
  {
   "cell_type": "code",
   "execution_count": 16,
   "metadata": {},
   "outputs": [],
   "source": [
    "# campaign에 따른 user action수\n",
    "campaign_num_act = campaign_df.groupby('trafficSource_campaign')['revenue_status'].sum()"
   ]
  },
  {
   "cell_type": "code",
   "execution_count": 29,
   "metadata": {},
   "outputs": [],
   "source": [
    "# user action 수 / user 수\n",
    "per_campaign = round(campaign_num_act/campaign_num_user*100,1)"
   ]
  },
  {
   "cell_type": "code",
   "execution_count": 30,
   "metadata": {},
   "outputs": [],
   "source": [
    "# 3개의 Series를 합쳐 df로 표현\n",
    "campaign_table = pd.concat([campaign_num_user, campaign_num_act,per_campaign], axis=1)"
   ]
  },
  {
   "cell_type": "code",
   "execution_count": 31,
   "metadata": {},
   "outputs": [],
   "source": [
    "campaign_table = campaign_table.reset_index()"
   ]
  },
  {
   "cell_type": "code",
   "execution_count": 32,
   "metadata": {},
   "outputs": [],
   "source": [
    "# column명 변경\n",
    "campaign_table.columns = ['campaign','total_visit', 'num_action', 'rate']"
   ]
  },
  {
   "cell_type": "code",
   "execution_count": 33,
   "metadata": {},
   "outputs": [
    {
     "data": {
      "text/html": [
       "<div>\n",
       "<style scoped>\n",
       "    .dataframe tbody tr th:only-of-type {\n",
       "        vertical-align: middle;\n",
       "    }\n",
       "\n",
       "    .dataframe tbody tr th {\n",
       "        vertical-align: top;\n",
       "    }\n",
       "\n",
       "    .dataframe thead th {\n",
       "        text-align: right;\n",
       "    }\n",
       "</style>\n",
       "<table border=\"1\" class=\"dataframe\">\n",
       "  <thead>\n",
       "    <tr style=\"text-align: right;\">\n",
       "      <th></th>\n",
       "      <th>campaign</th>\n",
       "      <th>total_visit</th>\n",
       "      <th>num_action</th>\n",
       "      <th>rate</th>\n",
       "    </tr>\n",
       "  </thead>\n",
       "  <tbody>\n",
       "    <tr>\n",
       "      <th>0</th>\n",
       "      <td>(not set)</td>\n",
       "      <td>865347</td>\n",
       "      <td>11050.0</td>\n",
       "      <td>1.3</td>\n",
       "    </tr>\n",
       "    <tr>\n",
       "      <th>1</th>\n",
       "      <td>AW - Accessories</td>\n",
       "      <td>7070</td>\n",
       "      <td>130.0</td>\n",
       "      <td>1.8</td>\n",
       "    </tr>\n",
       "    <tr>\n",
       "      <th>2</th>\n",
       "      <td>AW - Apparel</td>\n",
       "      <td>46</td>\n",
       "      <td>1.0</td>\n",
       "      <td>2.2</td>\n",
       "    </tr>\n",
       "    <tr>\n",
       "      <th>3</th>\n",
       "      <td>AW - Dynamic Search Ads Whole Site</td>\n",
       "      <td>14244</td>\n",
       "      <td>323.0</td>\n",
       "      <td>2.3</td>\n",
       "    </tr>\n",
       "    <tr>\n",
       "      <th>4</th>\n",
       "      <td>AW - Electronics</td>\n",
       "      <td>96</td>\n",
       "      <td>0.0</td>\n",
       "      <td>0.0</td>\n",
       "    </tr>\n",
       "    <tr>\n",
       "      <th>5</th>\n",
       "      <td>All Products</td>\n",
       "      <td>4</td>\n",
       "      <td>0.0</td>\n",
       "      <td>0.0</td>\n",
       "    </tr>\n",
       "    <tr>\n",
       "      <th>6</th>\n",
       "      <td>Data Share</td>\n",
       "      <td>1</td>\n",
       "      <td>0.0</td>\n",
       "      <td>0.0</td>\n",
       "    </tr>\n",
       "    <tr>\n",
       "      <th>7</th>\n",
       "      <td>Data Share Promo</td>\n",
       "      <td>16403</td>\n",
       "      <td>9.0</td>\n",
       "      <td>0.1</td>\n",
       "    </tr>\n",
       "    <tr>\n",
       "      <th>8</th>\n",
       "      <td>Retail (DO NOT EDIT owners nophakun and tianyu)</td>\n",
       "      <td>50</td>\n",
       "      <td>1.0</td>\n",
       "      <td>2.0</td>\n",
       "    </tr>\n",
       "    <tr>\n",
       "      <th>9</th>\n",
       "      <td>test-liyuhz</td>\n",
       "      <td>392</td>\n",
       "      <td>1.0</td>\n",
       "      <td>0.3</td>\n",
       "    </tr>\n",
       "  </tbody>\n",
       "</table>\n",
       "</div>"
      ],
      "text/plain": [
       "                                          campaign  total_visit  num_action  \\\n",
       "0                                        (not set)       865347     11050.0   \n",
       "1                                 AW - Accessories         7070       130.0   \n",
       "2                                     AW - Apparel           46         1.0   \n",
       "3               AW - Dynamic Search Ads Whole Site        14244       323.0   \n",
       "4                                 AW - Electronics           96         0.0   \n",
       "5                                     All Products            4         0.0   \n",
       "6                                       Data Share            1         0.0   \n",
       "7                                 Data Share Promo        16403         9.0   \n",
       "8  Retail (DO NOT EDIT owners nophakun and tianyu)           50         1.0   \n",
       "9                                      test-liyuhz          392         1.0   \n",
       "\n",
       "   rate  \n",
       "0   1.3  \n",
       "1   1.8  \n",
       "2   2.2  \n",
       "3   2.3  \n",
       "4   0.0  \n",
       "5   0.0  \n",
       "6   0.0  \n",
       "7   0.1  \n",
       "8   2.0  \n",
       "9   0.3  "
      ]
     },
     "execution_count": 33,
     "metadata": {},
     "output_type": "execute_result"
    }
   ],
   "source": [
    "campaign_table"
   ]
  },
  {
   "cell_type": "code",
   "execution_count": 15,
   "metadata": {},
   "outputs": [],
   "source": [
    "# campaign에 따른 total_revenue\n",
    "campaign_revenue = campaign_df.groupby('trafficSource_campaign')['totals_transactionRevenue'].sum()"
   ]
  },
  {
   "cell_type": "code",
   "execution_count": 27,
   "metadata": {},
   "outputs": [
    {
     "data": {
      "text/plain": [
       "trafficSource_campaign\n",
       "(not set)                                          1.496781e+12\n",
       "AW - Accessories                                   1.541782e+10\n",
       "AW - Apparel                                       7.782000e+07\n",
       "AW - Dynamic Search Ads Whole Site                 2.713255e+10\n",
       "AW - Electronics                                   0.000000e+00\n",
       "All Products                                       0.000000e+00\n",
       "Data Share                                         0.000000e+00\n",
       "Data Share Promo                                   5.973800e+08\n",
       "Retail (DO NOT EDIT owners nophakun and tianyu)    2.295000e+07\n",
       "test-liyuhz                                        4.200000e+07\n",
       "Name: totals_transactionRevenue, dtype: float64"
      ]
     },
     "execution_count": 27,
     "metadata": {},
     "output_type": "execute_result"
    }
   ],
   "source": [
    "campaign_revenue"
   ]
  },
  {
   "cell_type": "code",
   "execution_count": 25,
   "metadata": {},
   "outputs": [
    {
     "data": {
      "text/plain": [
       "trafficSource_campaign\n",
       "(not set)                                          2.170119e+06\n",
       "AW - Accessories                                   2.855681e+06\n",
       "AW - Apparel                                       2.047895e+06\n",
       "AW - Dynamic Search Ads Whole Site                 2.491968e+06\n",
       "AW - Electronics                                   0.000000e+00\n",
       "All Products                                       0.000000e+00\n",
       "Data Share                                         0.000000e+00\n",
       "Data Share Promo                                   4.458392e+04\n",
       "Retail (DO NOT EDIT owners nophakun and tianyu)    4.989130e+05\n",
       "test-liyuhz                                        1.627907e+05\n",
       "dtype: float64"
      ]
     },
     "execution_count": 25,
     "metadata": {},
     "output_type": "execute_result"
    }
   ],
   "source": [
    "# 총 revenue / user 수\n",
    "campaign_revenue/campaign_num_user"
   ]
  },
  {
   "cell_type": "code",
   "execution_count": null,
   "metadata": {},
   "outputs": [],
   "source": []
  }
 ],
 "metadata": {
  "kernelspec": {
   "display_name": "base",
   "language": "python",
   "name": "python3"
  },
  "language_info": {
   "codemirror_mode": {
    "name": "ipython",
    "version": 3
   },
   "file_extension": ".py",
   "mimetype": "text/x-python",
   "name": "python",
   "nbconvert_exporter": "python",
   "pygments_lexer": "ipython3",
   "version": "3.9.13"
  }
 },
 "nbformat": 4,
 "nbformat_minor": 2
}
