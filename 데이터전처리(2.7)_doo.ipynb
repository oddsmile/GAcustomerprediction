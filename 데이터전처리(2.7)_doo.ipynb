{
 "cells": [
  {
   "cell_type": "markdown",
   "metadata": {},
   "source": [
    "os 활용에 관해 참고    \n",
    ": https://yuls-with-ai.tistory.com/214"
   ]
  },
  {
   "cell_type": "code",
   "execution_count": 2,
   "metadata": {},
   "outputs": [
    {
     "data": {
      "text/plain": [
       "'c:\\\\Users\\\\and_c\\\\문서\\\\GitHub\\\\GAcustomerprediction'"
      ]
     },
     "execution_count": 2,
     "metadata": {},
     "output_type": "execute_result"
    }
   ],
   "source": [
    "# os (Operating System)는 운영체제에서 제공되는 여러 기능을 파이썬에서 수행\n",
    "import os\n",
    "\n",
    "# 현재 작업중인 파일경로 확인\n",
    "os.getcwd()\n",
    "# 디렉토리 변경하고 싶다면\n",
    "# os.chdir(path)"
   ]
  },
  {
   "cell_type": "markdown",
   "metadata": {},
   "source": [
    "데이터 불러오기 및 확인"
   ]
  },
  {
   "cell_type": "code",
   "execution_count": 84,
   "metadata": {},
   "outputs": [],
   "source": [
    "#데이터 불러오기\n",
    "import pandas as pd\n",
    "\n",
    "df = pd.read_csv('C://Users//and_c//Desktop//sparta_ga4//train_df.csv', low_memory = False)"
   ]
  },
  {
   "cell_type": "code",
   "execution_count": 153,
   "metadata": {},
   "outputs": [],
   "source": [
    "# 해당 값 전체 보기\n",
    "pd.set_option('display.max_colwidth', None)\n",
    "pd.set_option('display.max_rows', None)\n",
    "# 복구\n",
    "# pd.reset_option('display.max_colwidth')\n",
    "# pd.reset_option('display.max_rows')"
   ]
  },
  {
   "cell_type": "code",
   "execution_count": 5,
   "metadata": {},
   "outputs": [
    {
     "data": {
      "text/html": [
       "<div>\n",
       "<style scoped>\n",
       "    .dataframe tbody tr th:only-of-type {\n",
       "        vertical-align: middle;\n",
       "    }\n",
       "\n",
       "    .dataframe tbody tr th {\n",
       "        vertical-align: top;\n",
       "    }\n",
       "\n",
       "    .dataframe thead th {\n",
       "        text-align: right;\n",
       "    }\n",
       "</style>\n",
       "<table border=\"1\" class=\"dataframe\">\n",
       "  <thead>\n",
       "    <tr style=\"text-align: right;\">\n",
       "      <th></th>\n",
       "      <th>channelGrouping</th>\n",
       "      <th>date</th>\n",
       "      <th>fullVisitorId</th>\n",
       "      <th>sessionId</th>\n",
       "      <th>socialEngagementType</th>\n",
       "      <th>visitId</th>\n",
       "      <th>visitNumber</th>\n",
       "      <th>visitStartTime</th>\n",
       "      <th>device_browser</th>\n",
       "      <th>device_browserVersion</th>\n",
       "      <th>...</th>\n",
       "      <th>trafficSource_adwordsClickInfo.criteriaParameters</th>\n",
       "      <th>trafficSource_isTrueDirect</th>\n",
       "      <th>trafficSource_referralPath</th>\n",
       "      <th>trafficSource_adwordsClickInfo.page</th>\n",
       "      <th>trafficSource_adwordsClickInfo.slot</th>\n",
       "      <th>trafficSource_adwordsClickInfo.gclId</th>\n",
       "      <th>trafficSource_adwordsClickInfo.adNetworkType</th>\n",
       "      <th>trafficSource_adwordsClickInfo.isVideoAd</th>\n",
       "      <th>trafficSource_adContent</th>\n",
       "      <th>trafficSource_campaignCode</th>\n",
       "    </tr>\n",
       "  </thead>\n",
       "  <tbody>\n",
       "    <tr>\n",
       "      <th>0</th>\n",
       "      <td>Organic Search</td>\n",
       "      <td>20160902</td>\n",
       "      <td>1131660440785968503</td>\n",
       "      <td>1131660440785968503_1472830385</td>\n",
       "      <td>Not Socially Engaged</td>\n",
       "      <td>1472830385</td>\n",
       "      <td>1</td>\n",
       "      <td>1472830385</td>\n",
       "      <td>Chrome</td>\n",
       "      <td>not available in demo dataset</td>\n",
       "      <td>...</td>\n",
       "      <td>not available in demo dataset</td>\n",
       "      <td>NaN</td>\n",
       "      <td>NaN</td>\n",
       "      <td>NaN</td>\n",
       "      <td>NaN</td>\n",
       "      <td>NaN</td>\n",
       "      <td>NaN</td>\n",
       "      <td>NaN</td>\n",
       "      <td>NaN</td>\n",
       "      <td>NaN</td>\n",
       "    </tr>\n",
       "    <tr>\n",
       "      <th>1</th>\n",
       "      <td>Organic Search</td>\n",
       "      <td>20160902</td>\n",
       "      <td>377306020877927890</td>\n",
       "      <td>377306020877927890_1472880147</td>\n",
       "      <td>Not Socially Engaged</td>\n",
       "      <td>1472880147</td>\n",
       "      <td>1</td>\n",
       "      <td>1472880147</td>\n",
       "      <td>Firefox</td>\n",
       "      <td>not available in demo dataset</td>\n",
       "      <td>...</td>\n",
       "      <td>not available in demo dataset</td>\n",
       "      <td>NaN</td>\n",
       "      <td>NaN</td>\n",
       "      <td>NaN</td>\n",
       "      <td>NaN</td>\n",
       "      <td>NaN</td>\n",
       "      <td>NaN</td>\n",
       "      <td>NaN</td>\n",
       "      <td>NaN</td>\n",
       "      <td>NaN</td>\n",
       "    </tr>\n",
       "    <tr>\n",
       "      <th>2</th>\n",
       "      <td>Organic Search</td>\n",
       "      <td>20160902</td>\n",
       "      <td>3895546263509774583</td>\n",
       "      <td>3895546263509774583_1472865386</td>\n",
       "      <td>Not Socially Engaged</td>\n",
       "      <td>1472865386</td>\n",
       "      <td>1</td>\n",
       "      <td>1472865386</td>\n",
       "      <td>Chrome</td>\n",
       "      <td>not available in demo dataset</td>\n",
       "      <td>...</td>\n",
       "      <td>not available in demo dataset</td>\n",
       "      <td>NaN</td>\n",
       "      <td>NaN</td>\n",
       "      <td>NaN</td>\n",
       "      <td>NaN</td>\n",
       "      <td>NaN</td>\n",
       "      <td>NaN</td>\n",
       "      <td>NaN</td>\n",
       "      <td>NaN</td>\n",
       "      <td>NaN</td>\n",
       "    </tr>\n",
       "  </tbody>\n",
       "</table>\n",
       "<p>3 rows × 55 columns</p>\n",
       "</div>"
      ],
      "text/plain": [
       "  channelGrouping      date        fullVisitorId  \\\n",
       "0  Organic Search  20160902  1131660440785968503   \n",
       "1  Organic Search  20160902   377306020877927890   \n",
       "2  Organic Search  20160902  3895546263509774583   \n",
       "\n",
       "                        sessionId  socialEngagementType     visitId  \\\n",
       "0  1131660440785968503_1472830385  Not Socially Engaged  1472830385   \n",
       "1   377306020877927890_1472880147  Not Socially Engaged  1472880147   \n",
       "2  3895546263509774583_1472865386  Not Socially Engaged  1472865386   \n",
       "\n",
       "   visitNumber  visitStartTime device_browser          device_browserVersion  \\\n",
       "0            1      1472830385         Chrome  not available in demo dataset   \n",
       "1            1      1472880147        Firefox  not available in demo dataset   \n",
       "2            1      1472865386         Chrome  not available in demo dataset   \n",
       "\n",
       "   ... trafficSource_adwordsClickInfo.criteriaParameters  \\\n",
       "0  ...                     not available in demo dataset   \n",
       "1  ...                     not available in demo dataset   \n",
       "2  ...                     not available in demo dataset   \n",
       "\n",
       "  trafficSource_isTrueDirect trafficSource_referralPath  \\\n",
       "0                        NaN                        NaN   \n",
       "1                        NaN                        NaN   \n",
       "2                        NaN                        NaN   \n",
       "\n",
       "   trafficSource_adwordsClickInfo.page trafficSource_adwordsClickInfo.slot  \\\n",
       "0                                  NaN                                 NaN   \n",
       "1                                  NaN                                 NaN   \n",
       "2                                  NaN                                 NaN   \n",
       "\n",
       "  trafficSource_adwordsClickInfo.gclId  \\\n",
       "0                                  NaN   \n",
       "1                                  NaN   \n",
       "2                                  NaN   \n",
       "\n",
       "  trafficSource_adwordsClickInfo.adNetworkType  \\\n",
       "0                                          NaN   \n",
       "1                                          NaN   \n",
       "2                                          NaN   \n",
       "\n",
       "  trafficSource_adwordsClickInfo.isVideoAd trafficSource_adContent  \\\n",
       "0                                      NaN                     NaN   \n",
       "1                                      NaN                     NaN   \n",
       "2                                      NaN                     NaN   \n",
       "\n",
       "  trafficSource_campaignCode  \n",
       "0                        NaN  \n",
       "1                        NaN  \n",
       "2                        NaN  \n",
       "\n",
       "[3 rows x 55 columns]"
      ]
     },
     "execution_count": 5,
     "metadata": {},
     "output_type": "execute_result"
    }
   ],
   "source": [
    "df.head(3)"
   ]
  },
  {
   "cell_type": "code",
   "execution_count": 28,
   "metadata": {},
   "outputs": [
    {
     "name": "stdout",
     "output_type": "stream",
     "text": [
      "<class 'pandas.core.frame.DataFrame'>\n",
      "RangeIndex: 903653 entries, 0 to 903652\n",
      "Data columns (total 55 columns):\n",
      " #   Column                                             Non-Null Count   Dtype  \n",
      "---  ------                                             --------------   -----  \n",
      " 0   channelGrouping                                    903653 non-null  object \n",
      " 1   date                                               903653 non-null  int64  \n",
      " 2   fullVisitorId                                      903653 non-null  object \n",
      " 3   sessionId                                          903653 non-null  object \n",
      " 4   socialEngagementType                               903653 non-null  object \n",
      " 5   visitId                                            903653 non-null  int64  \n",
      " 6   visitNumber                                        903653 non-null  int64  \n",
      " 7   visitStartTime                                     903653 non-null  int64  \n",
      " 8   device_browser                                     903653 non-null  object \n",
      " 9   device_browserVersion                              903653 non-null  object \n",
      " 10  device_browserSize                                 903653 non-null  object \n",
      " 11  device_operatingSystem                             903653 non-null  object \n",
      " 12  device_operatingSystemVersion                      903653 non-null  object \n",
      " 13  device_isMobile                                    903653 non-null  bool   \n",
      " 14  device_mobileDeviceBranding                        903653 non-null  object \n",
      " 15  device_mobileDeviceModel                           903653 non-null  object \n",
      " 16  device_mobileInputSelector                         903653 non-null  object \n",
      " 17  device_mobileDeviceInfo                            903653 non-null  object \n",
      " 18  device_mobileDeviceMarketingName                   903653 non-null  object \n",
      " 19  device_flashVersion                                903653 non-null  object \n",
      " 20  device_language                                    903653 non-null  object \n",
      " 21  device_screenColors                                903653 non-null  object \n",
      " 22  device_screenResolution                            903653 non-null  object \n",
      " 23  device_deviceCategory                              903653 non-null  object \n",
      " 24  geoNetwork_continent                               903653 non-null  object \n",
      " 25  geoNetwork_subContinent                            903653 non-null  object \n",
      " 26  geoNetwork_country                                 903653 non-null  object \n",
      " 27  geoNetwork_region                                  903653 non-null  object \n",
      " 28  geoNetwork_metro                                   903653 non-null  object \n",
      " 29  geoNetwork_city                                    903653 non-null  object \n",
      " 30  geoNetwork_cityId                                  903653 non-null  object \n",
      " 31  geoNetwork_networkDomain                           903653 non-null  object \n",
      " 32  geoNetwork_latitude                                903653 non-null  object \n",
      " 33  geoNetwork_longitude                               903653 non-null  object \n",
      " 34  geoNetwork_networkLocation                         903653 non-null  object \n",
      " 35  totals_visits                                      903653 non-null  int64  \n",
      " 36  totals_hits                                        903653 non-null  int64  \n",
      " 37  totals_pageviews                                   903553 non-null  float64\n",
      " 38  totals_bounces                                     450630 non-null  float64\n",
      " 39  totals_newVisits                                   703060 non-null  float64\n",
      " 40  totals_transactionRevenue                          11515 non-null   float64\n",
      " 41  trafficSource_campaign                             903653 non-null  object \n",
      " 42  trafficSource_source                               903653 non-null  object \n",
      " 43  trafficSource_medium                               903653 non-null  object \n",
      " 44  trafficSource_keyword                              400724 non-null  object \n",
      " 45  trafficSource_adwordsClickInfo.criteriaParameters  903653 non-null  object \n",
      " 46  trafficSource_isTrueDirect                         274005 non-null  object \n",
      " 47  trafficSource_referralPath                         330941 non-null  object \n",
      " 48  trafficSource_adwordsClickInfo.page                21460 non-null   float64\n",
      " 49  trafficSource_adwordsClickInfo.slot                21460 non-null   object \n",
      " 50  trafficSource_adwordsClickInfo.gclId               21561 non-null   object \n",
      " 51  trafficSource_adwordsClickInfo.adNetworkType       21460 non-null   object \n",
      " 52  trafficSource_adwordsClickInfo.isVideoAd           21460 non-null   object \n",
      " 53  trafficSource_adContent                            10946 non-null   object \n",
      " 54  trafficSource_campaignCode                         1 non-null       object \n",
      "dtypes: bool(1), float64(5), int64(6), object(43)\n",
      "memory usage: 373.2+ MB\n"
     ]
    }
   ],
   "source": [
    "df.info()"
   ]
  },
  {
   "cell_type": "code",
   "execution_count": null,
   "metadata": {},
   "outputs": [],
   "source": [
    "#"
   ]
  },
  {
   "cell_type": "markdown",
   "metadata": {},
   "source": [
    "**사용할 데이터 칼럼 정리**\n",
    "- **fullVisitorId : 사용자 구분 Id**\n",
    "- **channelGrouping : 사이트의 들어온 경로를 의미**    \n",
    "    'Organic Search', 'Referral','Paid Search', 'Affiliates','Direct', 'Display', 'Social', '(Other)'     \n",
    "- **Device : 접속한 브라우저 명, 접속한 기기 등의 정보**        \n",
    "    browser , operatingSystem, deviceCategory\n",
    "- **geoNetwork : 접속이 발생한 지역의 정보**    \n",
    "    continent, subContinent, country\n",
    "- **totals : 웹페이지와의 상호작용**    \n",
    "    bounce, hits, newVisits, pageviews, transactionRevenue, visits\n",
    "- **traficSource : 접속 트래픽 정보**\n",
    "- **visitStartTime : 접속한 시간 (posix타임)**"
   ]
  },
  {
   "cell_type": "markdown",
   "metadata": {},
   "source": [
    "필요한 칼럼만 따로 df[]만들기"
   ]
  },
  {
   "cell_type": "code",
   "execution_count": 155,
   "metadata": {},
   "outputs": [
    {
     "data": {
      "text/html": [
       "<div>\n",
       "<style scoped>\n",
       "    .dataframe tbody tr th:only-of-type {\n",
       "        vertical-align: middle;\n",
       "    }\n",
       "\n",
       "    .dataframe tbody tr th {\n",
       "        vertical-align: top;\n",
       "    }\n",
       "\n",
       "    .dataframe thead th {\n",
       "        text-align: right;\n",
       "    }\n",
       "</style>\n",
       "<table border=\"1\" class=\"dataframe\">\n",
       "  <thead>\n",
       "    <tr style=\"text-align: right;\">\n",
       "      <th></th>\n",
       "      <th>fullVisitorId</th>\n",
       "      <th>channelGrouping</th>\n",
       "      <th>device_browser</th>\n",
       "      <th>device_operatingSystem</th>\n",
       "      <th>device_deviceCategory</th>\n",
       "      <th>geoNetwork_continent</th>\n",
       "      <th>geoNetwork_subContinent</th>\n",
       "      <th>geoNetwork_country</th>\n",
       "      <th>totals_visits</th>\n",
       "      <th>totals_hits</th>\n",
       "      <th>totals_bounces</th>\n",
       "      <th>totals_newVisits</th>\n",
       "      <th>totals_transactionRevenue</th>\n",
       "      <th>trafficSource_source</th>\n",
       "      <th>trafficSource_medium</th>\n",
       "    </tr>\n",
       "  </thead>\n",
       "  <tbody>\n",
       "    <tr>\n",
       "      <th>0</th>\n",
       "      <td>1131660440785968503</td>\n",
       "      <td>Organic Search</td>\n",
       "      <td>Chrome</td>\n",
       "      <td>Windows</td>\n",
       "      <td>desktop</td>\n",
       "      <td>Asia</td>\n",
       "      <td>Western Asia</td>\n",
       "      <td>Turkey</td>\n",
       "      <td>1</td>\n",
       "      <td>1</td>\n",
       "      <td>1.0</td>\n",
       "      <td>1.0</td>\n",
       "      <td>NaN</td>\n",
       "      <td>google</td>\n",
       "      <td>organic</td>\n",
       "    </tr>\n",
       "    <tr>\n",
       "      <th>1</th>\n",
       "      <td>377306020877927890</td>\n",
       "      <td>Organic Search</td>\n",
       "      <td>Firefox</td>\n",
       "      <td>Macintosh</td>\n",
       "      <td>desktop</td>\n",
       "      <td>Oceania</td>\n",
       "      <td>Australasia</td>\n",
       "      <td>Australia</td>\n",
       "      <td>1</td>\n",
       "      <td>1</td>\n",
       "      <td>1.0</td>\n",
       "      <td>1.0</td>\n",
       "      <td>NaN</td>\n",
       "      <td>google</td>\n",
       "      <td>organic</td>\n",
       "    </tr>\n",
       "    <tr>\n",
       "      <th>2</th>\n",
       "      <td>3895546263509774583</td>\n",
       "      <td>Organic Search</td>\n",
       "      <td>Chrome</td>\n",
       "      <td>Windows</td>\n",
       "      <td>desktop</td>\n",
       "      <td>Europe</td>\n",
       "      <td>Southern Europe</td>\n",
       "      <td>Spain</td>\n",
       "      <td>1</td>\n",
       "      <td>1</td>\n",
       "      <td>1.0</td>\n",
       "      <td>1.0</td>\n",
       "      <td>NaN</td>\n",
       "      <td>google</td>\n",
       "      <td>organic</td>\n",
       "    </tr>\n",
       "    <tr>\n",
       "      <th>3</th>\n",
       "      <td>4763447161404445595</td>\n",
       "      <td>Organic Search</td>\n",
       "      <td>UC Browser</td>\n",
       "      <td>Linux</td>\n",
       "      <td>desktop</td>\n",
       "      <td>Asia</td>\n",
       "      <td>Southeast Asia</td>\n",
       "      <td>Indonesia</td>\n",
       "      <td>1</td>\n",
       "      <td>1</td>\n",
       "      <td>1.0</td>\n",
       "      <td>1.0</td>\n",
       "      <td>NaN</td>\n",
       "      <td>google</td>\n",
       "      <td>organic</td>\n",
       "    </tr>\n",
       "    <tr>\n",
       "      <th>4</th>\n",
       "      <td>27294437909732085</td>\n",
       "      <td>Organic Search</td>\n",
       "      <td>Chrome</td>\n",
       "      <td>Android</td>\n",
       "      <td>mobile</td>\n",
       "      <td>Europe</td>\n",
       "      <td>Northern Europe</td>\n",
       "      <td>United Kingdom</td>\n",
       "      <td>1</td>\n",
       "      <td>1</td>\n",
       "      <td>1.0</td>\n",
       "      <td>NaN</td>\n",
       "      <td>NaN</td>\n",
       "      <td>google</td>\n",
       "      <td>organic</td>\n",
       "    </tr>\n",
       "  </tbody>\n",
       "</table>\n",
       "</div>"
      ],
      "text/plain": [
       "         fullVisitorId channelGrouping device_browser device_operatingSystem  \\\n",
       "0  1131660440785968503  Organic Search         Chrome                Windows   \n",
       "1   377306020877927890  Organic Search        Firefox              Macintosh   \n",
       "2  3895546263509774583  Organic Search         Chrome                Windows   \n",
       "3  4763447161404445595  Organic Search     UC Browser                  Linux   \n",
       "4    27294437909732085  Organic Search         Chrome                Android   \n",
       "\n",
       "  device_deviceCategory geoNetwork_continent geoNetwork_subContinent  \\\n",
       "0               desktop                 Asia            Western Asia   \n",
       "1               desktop              Oceania             Australasia   \n",
       "2               desktop               Europe         Southern Europe   \n",
       "3               desktop                 Asia          Southeast Asia   \n",
       "4                mobile               Europe         Northern Europe   \n",
       "\n",
       "  geoNetwork_country  totals_visits  totals_hits  totals_bounces  \\\n",
       "0             Turkey              1            1             1.0   \n",
       "1          Australia              1            1             1.0   \n",
       "2              Spain              1            1             1.0   \n",
       "3          Indonesia              1            1             1.0   \n",
       "4     United Kingdom              1            1             1.0   \n",
       "\n",
       "   totals_newVisits  totals_transactionRevenue trafficSource_source  \\\n",
       "0               1.0                        NaN               google   \n",
       "1               1.0                        NaN               google   \n",
       "2               1.0                        NaN               google   \n",
       "3               1.0                        NaN               google   \n",
       "4               NaN                        NaN               google   \n",
       "\n",
       "  trafficSource_medium  \n",
       "0              organic  \n",
       "1              organic  \n",
       "2              organic  \n",
       "3              organic  \n",
       "4              organic  "
      ]
     },
     "execution_count": 155,
     "metadata": {},
     "output_type": "execute_result"
    }
   ],
   "source": [
    "df[['fullVisitorId','channelGrouping',\n",
    "    'device_browser','device_operatingSystem','device_deviceCategory',\n",
    "    'geoNetwork_continent','geoNetwork_subContinent','geoNetwork_country',\n",
    "    'totals_visits','totals_hits','totals_bounces','totals_newVisits','totals_transactionRevenue',\n",
    "    'trafficSource_source','trafficSource_medium']].head()"
   ]
  },
  {
   "attachments": {
    "image.png": {
     "image/png": "[encoded data removed]"
    }
   },
   "cell_type": "markdown",
   "metadata": {},
   "source": [
    "![image.png](attachment:image.png)"
   ]
  },
  {
   "cell_type": "markdown",
   "metadata": {},
   "source": [
    "- posix time -> utc time으로 변환하기"
   ]
  },
  {
   "cell_type": "code",
   "execution_count": 85,
   "metadata": {},
   "outputs": [],
   "source": [
    "# 데이터프레임에 한 열의 값을 바꾸기 위해서 def함수를 만들고 apply 적용\n",
    "import pandas as pd\n",
    "import datetime #날짜와 시간을 다루는 라이브러리\n",
    "import pytz #다양한 시간대를 처리하기 위해 사용하는 라이브러리\n",
    "\n",
    "# Posix 시간을 utc 시간으로 변환하는 함수\n",
    "def posix_to_utc(visitStartTime):\n",
    "    utc_time = datetime.datetime.utcfromtimestamp(visitStartTime)\n",
    "    return utc_time\n",
    "\n",
    "# Posix 시간을 UTC 지정한 로컬 시간대로 변환하는 함수\n",
    "def posix_to_utc_local(visitStartTime):\n",
    "    utc_time = datetime.datetime.utcfromtimestamp(visitStartTime) #posix -> utc시간대로\n",
    "    local_timezone = pytz.timezone('America/New_York')  # 지역 시간대\n",
    "    return utc_time.astimezone(local_timezone) # 그 지역 시간대로 변환"
   ]
  },
  {
   "cell_type": "code",
   "execution_count": 86,
   "metadata": {},
   "outputs": [
    {
     "data": {
      "text/plain": [
       "0        2016-09-02 15:33:05\n",
       "1        2016-09-03 05:22:27\n",
       "2        2016-09-03 01:16:26\n",
       "3        2016-09-03 05:40:13\n",
       "4        2016-09-02 13:23:20\n",
       "                 ...        \n",
       "903648   2017-01-04 18:32:30\n",
       "903649   2017-01-04 15:29:58\n",
       "903650   2017-01-04 10:40:34\n",
       "903651   2017-01-05 05:07:44\n",
       "903652   2017-01-05 00:01:14\n",
       "Name: visitStartTime, Length: 903653, dtype: datetime64[ns]"
      ]
     },
     "execution_count": 86,
     "metadata": {},
     "output_type": "execute_result"
    }
   ],
   "source": [
    "# posix time을 utf time으로 변환\n",
    "df['visitStartTime'] = df['visitStartTime'].apply(posix_to_utc)\n",
    "df['visitStartTime']"
   ]
  },
  {
   "cell_type": "markdown",
   "metadata": {},
   "source": [
    "1) DAU/WAU/MAU Line chart 시각화"
   ]
  },
  {
   "cell_type": "code",
   "execution_count": 102,
   "metadata": {},
   "outputs": [
    {
     "data": {
      "text/html": [
       "<div>\n",
       "<style scoped>\n",
       "    .dataframe tbody tr th:only-of-type {\n",
       "        vertical-align: middle;\n",
       "    }\n",
       "\n",
       "    .dataframe tbody tr th {\n",
       "        vertical-align: top;\n",
       "    }\n",
       "\n",
       "    .dataframe thead th {\n",
       "        text-align: right;\n",
       "    }\n",
       "</style>\n",
       "<table border=\"1\" class=\"dataframe\">\n",
       "  <thead>\n",
       "    <tr style=\"text-align: right;\">\n",
       "      <th></th>\n",
       "      <th>fullVisitorId</th>\n",
       "    </tr>\n",
       "    <tr>\n",
       "      <th>visitStartTime</th>\n",
       "      <th></th>\n",
       "    </tr>\n",
       "  </thead>\n",
       "  <tbody>\n",
       "    <tr>\n",
       "      <th>2016-08-01</th>\n",
       "      <td>1197</td>\n",
       "    </tr>\n",
       "    <tr>\n",
       "      <th>2016-08-02</th>\n",
       "      <td>1799</td>\n",
       "    </tr>\n",
       "    <tr>\n",
       "      <th>2016-08-03</th>\n",
       "      <td>2481</td>\n",
       "    </tr>\n",
       "    <tr>\n",
       "      <th>2016-08-04</th>\n",
       "      <td>2959</td>\n",
       "    </tr>\n",
       "    <tr>\n",
       "      <th>2016-08-05</th>\n",
       "      <td>2745</td>\n",
       "    </tr>\n",
       "    <tr>\n",
       "      <th>...</th>\n",
       "      <td>...</td>\n",
       "    </tr>\n",
       "    <tr>\n",
       "      <th>2017-07-29</th>\n",
       "      <td>1676</td>\n",
       "    </tr>\n",
       "    <tr>\n",
       "      <th>2017-07-30</th>\n",
       "      <td>1513</td>\n",
       "    </tr>\n",
       "    <tr>\n",
       "      <th>2017-07-31</th>\n",
       "      <td>2292</td>\n",
       "    </tr>\n",
       "    <tr>\n",
       "      <th>2017-08-01</th>\n",
       "      <td>2322</td>\n",
       "    </tr>\n",
       "    <tr>\n",
       "      <th>2017-08-02</th>\n",
       "      <td>597</td>\n",
       "    </tr>\n",
       "  </tbody>\n",
       "</table>\n",
       "<p>367 rows × 1 columns</p>\n",
       "</div>"
      ],
      "text/plain": [
       "                fullVisitorId\n",
       "visitStartTime               \n",
       "2016-08-01               1197\n",
       "2016-08-02               1799\n",
       "2016-08-03               2481\n",
       "2016-08-04               2959\n",
       "2016-08-05               2745\n",
       "...                       ...\n",
       "2017-07-29               1676\n",
       "2017-07-30               1513\n",
       "2017-07-31               2292\n",
       "2017-08-01               2322\n",
       "2017-08-02                597\n",
       "\n",
       "[367 rows x 1 columns]"
      ]
     },
     "execution_count": 102,
     "metadata": {},
     "output_type": "execute_result"
    }
   ],
   "source": [
    "# DAU구하기\n",
    "df.groupby(df['visitStartTime'].dt.date)[['fullVisitorId']].nunique()"
   ]
  },
  {
   "cell_type": "code",
   "execution_count": 110,
   "metadata": {},
   "outputs": [],
   "source": [
    "# df.groupby(df['visitStartTime'].dt.week)[['fullVisitorId']].nunique()"
   ]
  },
  {
   "cell_type": "code",
   "execution_count": 107,
   "metadata": {},
   "outputs": [
    {
     "data": {
      "text/html": [
       "<div>\n",
       "<style scoped>\n",
       "    .dataframe tbody tr th:only-of-type {\n",
       "        vertical-align: middle;\n",
       "    }\n",
       "\n",
       "    .dataframe tbody tr th {\n",
       "        vertical-align: top;\n",
       "    }\n",
       "\n",
       "    .dataframe thead th {\n",
       "        text-align: right;\n",
       "    }\n",
       "</style>\n",
       "<table border=\"1\" class=\"dataframe\">\n",
       "  <thead>\n",
       "    <tr style=\"text-align: right;\">\n",
       "      <th></th>\n",
       "      <th>fullVisitorId</th>\n",
       "    </tr>\n",
       "    <tr>\n",
       "      <th>visitStartTime</th>\n",
       "      <th></th>\n",
       "    </tr>\n",
       "  </thead>\n",
       "  <tbody>\n",
       "    <tr>\n",
       "      <th>2016</th>\n",
       "      <td>436085</td>\n",
       "    </tr>\n",
       "    <tr>\n",
       "      <th>2017</th>\n",
       "      <td>467568</td>\n",
       "    </tr>\n",
       "  </tbody>\n",
       "</table>\n",
       "</div>"
      ],
      "text/plain": [
       "                fullVisitorId\n",
       "visitStartTime               \n",
       "2016                   436085\n",
       "2017                   467568"
      ]
     },
     "metadata": {},
     "output_type": "display_data"
    },
    {
     "data": {
      "text/html": [
       "<div>\n",
       "<style scoped>\n",
       "    .dataframe tbody tr th:only-of-type {\n",
       "        vertical-align: middle;\n",
       "    }\n",
       "\n",
       "    .dataframe tbody tr th {\n",
       "        vertical-align: top;\n",
       "    }\n",
       "\n",
       "    .dataframe thead th {\n",
       "        text-align: right;\n",
       "    }\n",
       "</style>\n",
       "<table border=\"1\" class=\"dataframe\">\n",
       "  <thead>\n",
       "    <tr style=\"text-align: right;\">\n",
       "      <th></th>\n",
       "      <th>fullVisitorId</th>\n",
       "    </tr>\n",
       "    <tr>\n",
       "      <th>visitStartTime</th>\n",
       "      <th></th>\n",
       "    </tr>\n",
       "  </thead>\n",
       "  <tbody>\n",
       "    <tr>\n",
       "      <th>2016</th>\n",
       "      <td>354569</td>\n",
       "    </tr>\n",
       "    <tr>\n",
       "      <th>2017</th>\n",
       "      <td>365529</td>\n",
       "    </tr>\n",
       "  </tbody>\n",
       "</table>\n",
       "</div>"
      ],
      "text/plain": [
       "                fullVisitorId\n",
       "visitStartTime               \n",
       "2016                   354569\n",
       "2017                   365529"
      ]
     },
     "metadata": {},
     "output_type": "display_data"
    }
   ],
   "source": [
    "display(df.groupby(df['visitStartTime'].dt.year)[['fullVisitorId']].count())\n",
    "display(df.groupby(df['visitStartTime'].dt.year)[['fullVisitorId']].nunique())"
   ]
  },
  {
   "cell_type": "markdown",
   "metadata": {},
   "source": [
    "2) 유저별 평균접속시간"
   ]
  },
  {
   "cell_type": "code",
   "execution_count": 165,
   "metadata": {},
   "outputs": [],
   "source": [
    "#  hour 칼럼 추가가\n",
    "df['visitHour'] = df['visitStartTime'].dt.hour"
   ]
  },
  {
   "cell_type": "code",
   "execution_count": null,
   "metadata": {},
   "outputs": [],
   "source": [
    "# 평균? 가장 빈도가 많은 시간대?\n",
    "# df.groupby('fullVisitorId')[['visitHour']]"
   ]
  },
  {
   "cell_type": "markdown",
   "metadata": {},
   "source": [
    "3) 방문 주차에 따른 코호트를 형성하고, weekly 리텐션을 구하고 히트맵으로 시각화하기"
   ]
  },
  {
   "cell_type": "code",
   "execution_count": null,
   "metadata": {},
   "outputs": [],
   "source": [
    "df['visitStartTime'].dt.week"
   ]
  },
  {
   "cell_type": "code",
   "execution_count": null,
   "metadata": {},
   "outputs": [],
   "source": [
    "# import matplotlib.pyplot as plt\n",
    "# import seaborn as sns\n",
    "\n",
    "# plt.rcParams['figure.figsize'] = [10,8]\n",
    "# plt.pcolor('pivot table')\n",
    "# # 또는 sns.heatmap()\n",
    "# # 피벗테이블의 df를 pandas를 이용해 표현도 가능 df.style.background_gradient\n",
    "# plt.title('Weekly Retention', fontsize=20)\n",
    "# plt.xlabel('week', fontsize=14)\n",
    "# plt.ylabel('visit', fontsize=14)\n",
    "# plt.colorbar()"
   ]
  },
  {
   "cell_type": "markdown",
   "metadata": {},
   "source": [
    "4. 요일/ 시간대별 이용자수를 구하고 시각화"
   ]
  },
  {
   "cell_type": "code",
   "execution_count": null,
   "metadata": {},
   "outputs": [],
   "source": [
    "# 요일별 칼럼, 시간대별 칼럼 추가? -> 그룹화해서 이용자 수 구하기"
   ]
  },
  {
   "cell_type": "markdown",
   "metadata": {},
   "source": [
    "5) 국가별 dau"
   ]
  },
  {
   "cell_type": "code",
   "execution_count": null,
   "metadata": {},
   "outputs": [],
   "source": [
    "# 국가별로 그룹화하여 계산"
   ]
  },
  {
   "cell_type": "markdown",
   "metadata": {},
   "source": [
    "6) 캠페인 효과 분석"
   ]
  },
  {
   "cell_type": "code",
   "execution_count": null,
   "metadata": {},
   "outputs": [],
   "source": [
    "# 캠페인을 통해 방문했다는 것을 어떤 칼럼을 보고 알 수 있는지 모르겠네요.."
   ]
  },
  {
   "cell_type": "code",
   "execution_count": null,
   "metadata": {},
   "outputs": [
    {
     "data": {
      "text/plain": [
       "trafficSource_campaign                               903653\n",
       "trafficSource_source                                 903653\n",
       "trafficSource_medium                                 903653\n",
       "trafficSource_keyword                                400724\n",
       "trafficSource_adwordsClickInfo.criteriaParameters    903653\n",
       "trafficSource_isTrueDirect                           274005\n",
       "trafficSource_referralPath                           330941\n",
       "trafficSource_adwordsClickInfo.page                   21460\n",
       "trafficSource_adwordsClickInfo.slot                   21460\n",
       "trafficSource_adwordsClickInfo.gclId                  21561\n",
       "trafficSource_adwordsClickInfo.adNetworkType          21460\n",
       "trafficSource_adwordsClickInfo.isVideoAd              21460\n",
       "trafficSource_adContent                               10946\n",
       "trafficSource_campaignCode                                1\n",
       "dtype: int64"
      ]
     },
     "metadata": {},
     "output_type": "display_data"
    }
   ],
   "source": [
    "# trafic 칼럼 데이터 확인\n",
    "a = []\n",
    "for i in df.columns :\n",
    "    if 'trafficSource' in i :\n",
    "        a.append(i)\n",
    "        \n",
    "df[a].notna().sum()\n",
    "# source, medium"
   ]
  },
  {
   "cell_type": "code",
   "execution_count": null,
   "metadata": {},
   "outputs": [
    {
     "data": {
      "text/html": [
       "<div>\n",
       "<style scoped>\n",
       "    .dataframe tbody tr th:only-of-type {\n",
       "        vertical-align: middle;\n",
       "    }\n",
       "\n",
       "    .dataframe tbody tr th {\n",
       "        vertical-align: top;\n",
       "    }\n",
       "\n",
       "    .dataframe thead th {\n",
       "        text-align: right;\n",
       "    }\n",
       "</style>\n",
       "<table border=\"1\" class=\"dataframe\">\n",
       "  <thead>\n",
       "    <tr style=\"text-align: right;\">\n",
       "      <th></th>\n",
       "      <th>trafficSource_source</th>\n",
       "      <th>trafficSource_medium</th>\n",
       "    </tr>\n",
       "  </thead>\n",
       "  <tbody>\n",
       "    <tr>\n",
       "      <th>0</th>\n",
       "      <td>google</td>\n",
       "      <td>organic</td>\n",
       "    </tr>\n",
       "    <tr>\n",
       "      <th>1</th>\n",
       "      <td>google</td>\n",
       "      <td>organic</td>\n",
       "    </tr>\n",
       "    <tr>\n",
       "      <th>2</th>\n",
       "      <td>google</td>\n",
       "      <td>organic</td>\n",
       "    </tr>\n",
       "    <tr>\n",
       "      <th>3</th>\n",
       "      <td>google</td>\n",
       "      <td>organic</td>\n",
       "    </tr>\n",
       "    <tr>\n",
       "      <th>4</th>\n",
       "      <td>google</td>\n",
       "      <td>organic</td>\n",
       "    </tr>\n",
       "    <tr>\n",
       "      <th>...</th>\n",
       "      <td>...</td>\n",
       "      <td>...</td>\n",
       "    </tr>\n",
       "    <tr>\n",
       "      <th>903648</th>\n",
       "      <td>youtube.com</td>\n",
       "      <td>referral</td>\n",
       "    </tr>\n",
       "    <tr>\n",
       "      <th>903649</th>\n",
       "      <td>youtube.com</td>\n",
       "      <td>referral</td>\n",
       "    </tr>\n",
       "    <tr>\n",
       "      <th>903650</th>\n",
       "      <td>youtube.com</td>\n",
       "      <td>referral</td>\n",
       "    </tr>\n",
       "    <tr>\n",
       "      <th>903651</th>\n",
       "      <td>facebook.com</td>\n",
       "      <td>referral</td>\n",
       "    </tr>\n",
       "    <tr>\n",
       "      <th>903652</th>\n",
       "      <td>youtube.com</td>\n",
       "      <td>referral</td>\n",
       "    </tr>\n",
       "  </tbody>\n",
       "</table>\n",
       "<p>903653 rows × 2 columns</p>\n",
       "</div>"
      ],
      "text/plain": [
       "       trafficSource_source trafficSource_medium\n",
       "0                    google              organic\n",
       "1                    google              organic\n",
       "2                    google              organic\n",
       "3                    google              organic\n",
       "4                    google              organic\n",
       "...                     ...                  ...\n",
       "903648          youtube.com             referral\n",
       "903649          youtube.com             referral\n",
       "903650          youtube.com             referral\n",
       "903651         facebook.com             referral\n",
       "903652          youtube.com             referral\n",
       "\n",
       "[903653 rows x 2 columns]"
      ]
     },
     "metadata": {},
     "output_type": "display_data"
    }
   ],
   "source": [
    "df[['trafficSource_source','trafficSource_medium']]"
   ]
  },
  {
   "cell_type": "code",
   "execution_count": null,
   "metadata": {},
   "outputs": [
    {
     "data": {
      "text/plain": [
       "array(['(not set)', 'AW - Dynamic Search Ads Whole Site',\n",
       "       'Data Share Promo', 'AW - Electronics', 'test-liyuhz',\n",
       "       'AW - Accessories',\n",
       "       'Retail (DO NOT EDIT owners nophakun and tianyu)', 'AW - Apparel',\n",
       "       'All Products', 'Data Share'], dtype=object)"
      ]
     },
     "metadata": {},
     "output_type": "display_data"
    },
    {
     "data": {
      "text/plain": [
       "array([nan, '/', '/corp/google.com/study/incentives/working-with-perks',\n",
       "       ..., '/BB1QfReObs', '/mail/mu/mp/118/', '/mail/mu/mp/509/'],\n",
       "      dtype=object)"
      ]
     },
     "metadata": {},
     "output_type": "display_data"
    },
    {
     "data": {
      "text/plain": [
       "array([nan, 'Google Search', 'Search partners'], dtype=object)"
      ]
     },
     "metadata": {},
     "output_type": "display_data"
    },
    {
     "data": {
      "text/plain": [
       "array(['(not provided)', 'google + online', nan, ...,\n",
       "       'www.google.com bag', 'Google store usar',\n",
       "       'google shirt buy online'], dtype=object)"
      ]
     },
     "metadata": {},
     "output_type": "display_data"
    }
   ],
   "source": [
    "# 어떤 값들이 있는지 확인\n",
    "display(df['trafficSource_campaign'].unique())\n",
    "display(df['trafficSource_referralPath'].unique())\n",
    "display(df['trafficSource_adwordsClickInfo.adNetworkType'].unique())\n",
    "display(df['trafficSource_keyword'].unique())"
   ]
  }
 ],
 "metadata": {
  "kernelspec": {
   "display_name": "base",
   "language": "python",
   "name": "python3"
  },
  "language_info": {
   "codemirror_mode": {
    "name": "ipython",
    "version": 3
   },
   "file_extension": ".py",
   "mimetype": "text/x-python",
   "name": "python",
   "nbconvert_exporter": "python",
   "pygments_lexer": "ipython3",
   "version": "3.9.13"
  }
 },
 "nbformat": 4,
 "nbformat_minor": 2
}
