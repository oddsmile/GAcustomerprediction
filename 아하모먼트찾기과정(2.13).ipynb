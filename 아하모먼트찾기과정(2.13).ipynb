{
 "cells": [
  {
   "cell_type": "code",
   "execution_count": 1,
   "metadata": {},
   "outputs": [],
   "source": [
    "import pandas as pd\n",
    "\n",
    "df = pd.read_csv('C://Users//and_c//Desktop//sparta_ga4//train_df.csv', low_memory = False)"
   ]
  },
  {
   "cell_type": "code",
   "execution_count": 2,
   "metadata": {},
   "outputs": [],
   "source": [
    "# 해당 값 전체 보기\n",
    "pd.set_option('display.max_colwidth', None)\n",
    "pd.set_option('display.max_rows', None)\n",
    "pd.options.display.max_columns = None"
   ]
  },
  {
   "cell_type": "code",
   "execution_count": 3,
   "metadata": {},
   "outputs": [
    {
     "name": "stdout",
     "output_type": "stream",
     "text": [
      "<class 'pandas.core.frame.DataFrame'>\n",
      "RangeIndex: 903653 entries, 0 to 903652\n",
      "Data columns (total 55 columns):\n",
      " #   Column                                             Non-Null Count   Dtype  \n",
      "---  ------                                             --------------   -----  \n",
      " 0   channelGrouping                                    903653 non-null  object \n",
      " 1   date                                               903653 non-null  int64  \n",
      " 2   fullVisitorId                                      903653 non-null  object \n",
      " 3   sessionId                                          903653 non-null  object \n",
      " 4   socialEngagementType                               903653 non-null  object \n",
      " 5   visitId                                            903653 non-null  int64  \n",
      " 6   visitNumber                                        903653 non-null  int64  \n",
      " 7   visitStartTime                                     903653 non-null  int64  \n",
      " 8   device_browser                                     903653 non-null  object \n",
      " 9   device_browserVersion                              903653 non-null  object \n",
      " 10  device_browserSize                                 903653 non-null  object \n",
      " 11  device_operatingSystem                             903653 non-null  object \n",
      " 12  device_operatingSystemVersion                      903653 non-null  object \n",
      " 13  device_isMobile                                    903653 non-null  bool   \n",
      " 14  device_mobileDeviceBranding                        903653 non-null  object \n",
      " 15  device_mobileDeviceModel                           903653 non-null  object \n",
      " 16  device_mobileInputSelector                         903653 non-null  object \n",
      " 17  device_mobileDeviceInfo                            903653 non-null  object \n",
      " 18  device_mobileDeviceMarketingName                   903653 non-null  object \n",
      " 19  device_flashVersion                                903653 non-null  object \n",
      " 20  device_language                                    903653 non-null  object \n",
      " 21  device_screenColors                                903653 non-null  object \n",
      " 22  device_screenResolution                            903653 non-null  object \n",
      " 23  device_deviceCategory                              903653 non-null  object \n",
      " 24  geoNetwork_continent                               903653 non-null  object \n",
      " 25  geoNetwork_subContinent                            903653 non-null  object \n",
      " 26  geoNetwork_country                                 903653 non-null  object \n",
      " 27  geoNetwork_region                                  903653 non-null  object \n",
      " 28  geoNetwork_metro                                   903653 non-null  object \n",
      " 29  geoNetwork_city                                    903653 non-null  object \n",
      " 30  geoNetwork_cityId                                  903653 non-null  object \n",
      " 31  geoNetwork_networkDomain                           903653 non-null  object \n",
      " 32  geoNetwork_latitude                                903653 non-null  object \n",
      " 33  geoNetwork_longitude                               903653 non-null  object \n",
      " 34  geoNetwork_networkLocation                         903653 non-null  object \n",
      " 35  totals_visits                                      903653 non-null  int64  \n",
      " 36  totals_hits                                        903653 non-null  int64  \n",
      " 37  totals_pageviews                                   903553 non-null  float64\n",
      " 38  totals_bounces                                     450630 non-null  float64\n",
      " 39  totals_newVisits                                   703060 non-null  float64\n",
      " 40  totals_transactionRevenue                          11515 non-null   float64\n",
      " 41  trafficSource_campaign                             903653 non-null  object \n",
      " 42  trafficSource_source                               903653 non-null  object \n",
      " 43  trafficSource_medium                               903653 non-null  object \n",
      " 44  trafficSource_keyword                              400724 non-null  object \n",
      " 45  trafficSource_adwordsClickInfo.criteriaParameters  903653 non-null  object \n",
      " 46  trafficSource_isTrueDirect                         274005 non-null  object \n",
      " 47  trafficSource_referralPath                         330941 non-null  object \n",
      " 48  trafficSource_adwordsClickInfo.page                21460 non-null   float64\n",
      " 49  trafficSource_adwordsClickInfo.slot                21460 non-null   object \n",
      " 50  trafficSource_adwordsClickInfo.gclId               21561 non-null   object \n",
      " 51  trafficSource_adwordsClickInfo.adNetworkType       21460 non-null   object \n",
      " 52  trafficSource_adwordsClickInfo.isVideoAd           21460 non-null   object \n",
      " 53  trafficSource_adContent                            10946 non-null   object \n",
      " 54  trafficSource_campaignCode                         1 non-null       object \n",
      "dtypes: bool(1), float64(5), int64(6), object(43)\n",
      "memory usage: 373.2+ MB\n"
     ]
    }
   ],
   "source": [
    "df.info()"
   ]
  },
  {
   "cell_type": "code",
   "execution_count": 4,
   "metadata": {},
   "outputs": [],
   "source": [
    "df.fillna(0, inplace = True)"
   ]
  },
  {
   "cell_type": "code",
   "execution_count": 5,
   "metadata": {},
   "outputs": [
    {
     "data": {
      "text/html": [
       "<div>\n",
       "<style scoped>\n",
       "    .dataframe tbody tr th:only-of-type {\n",
       "        vertical-align: middle;\n",
       "    }\n",
       "\n",
       "    .dataframe tbody tr th {\n",
       "        vertical-align: top;\n",
       "    }\n",
       "\n",
       "    .dataframe thead th {\n",
       "        text-align: right;\n",
       "    }\n",
       "</style>\n",
       "<table border=\"1\" class=\"dataframe\">\n",
       "  <thead>\n",
       "    <tr style=\"text-align: right;\">\n",
       "      <th></th>\n",
       "      <th>channelGrouping</th>\n",
       "      <th>date</th>\n",
       "      <th>fullVisitorId</th>\n",
       "      <th>sessionId</th>\n",
       "      <th>socialEngagementType</th>\n",
       "      <th>visitId</th>\n",
       "      <th>visitNumber</th>\n",
       "      <th>visitStartTime</th>\n",
       "      <th>device_browser</th>\n",
       "      <th>device_browserVersion</th>\n",
       "      <th>device_browserSize</th>\n",
       "      <th>device_operatingSystem</th>\n",
       "      <th>device_operatingSystemVersion</th>\n",
       "      <th>device_isMobile</th>\n",
       "      <th>device_mobileDeviceBranding</th>\n",
       "      <th>device_mobileDeviceModel</th>\n",
       "      <th>device_mobileInputSelector</th>\n",
       "      <th>device_mobileDeviceInfo</th>\n",
       "      <th>device_mobileDeviceMarketingName</th>\n",
       "      <th>device_flashVersion</th>\n",
       "      <th>device_language</th>\n",
       "      <th>device_screenColors</th>\n",
       "      <th>device_screenResolution</th>\n",
       "      <th>device_deviceCategory</th>\n",
       "      <th>geoNetwork_continent</th>\n",
       "      <th>geoNetwork_subContinent</th>\n",
       "      <th>geoNetwork_country</th>\n",
       "      <th>geoNetwork_region</th>\n",
       "      <th>geoNetwork_metro</th>\n",
       "      <th>geoNetwork_city</th>\n",
       "      <th>geoNetwork_cityId</th>\n",
       "      <th>geoNetwork_networkDomain</th>\n",
       "      <th>geoNetwork_latitude</th>\n",
       "      <th>geoNetwork_longitude</th>\n",
       "      <th>geoNetwork_networkLocation</th>\n",
       "      <th>totals_visits</th>\n",
       "      <th>totals_hits</th>\n",
       "      <th>totals_pageviews</th>\n",
       "      <th>totals_bounces</th>\n",
       "      <th>totals_newVisits</th>\n",
       "      <th>totals_transactionRevenue</th>\n",
       "      <th>trafficSource_campaign</th>\n",
       "      <th>trafficSource_source</th>\n",
       "      <th>trafficSource_medium</th>\n",
       "      <th>trafficSource_keyword</th>\n",
       "      <th>trafficSource_adwordsClickInfo.criteriaParameters</th>\n",
       "      <th>trafficSource_isTrueDirect</th>\n",
       "      <th>trafficSource_referralPath</th>\n",
       "      <th>trafficSource_adwordsClickInfo.page</th>\n",
       "      <th>trafficSource_adwordsClickInfo.slot</th>\n",
       "      <th>trafficSource_adwordsClickInfo.gclId</th>\n",
       "      <th>trafficSource_adwordsClickInfo.adNetworkType</th>\n",
       "      <th>trafficSource_adwordsClickInfo.isVideoAd</th>\n",
       "      <th>trafficSource_adContent</th>\n",
       "      <th>trafficSource_campaignCode</th>\n",
       "    </tr>\n",
       "  </thead>\n",
       "  <tbody>\n",
       "    <tr>\n",
       "      <th>0</th>\n",
       "      <td>Organic Search</td>\n",
       "      <td>20160902</td>\n",
       "      <td>1131660440785968503</td>\n",
       "      <td>1131660440785968503_1472830385</td>\n",
       "      <td>Not Socially Engaged</td>\n",
       "      <td>1472830385</td>\n",
       "      <td>1</td>\n",
       "      <td>1472830385</td>\n",
       "      <td>Chrome</td>\n",
       "      <td>not available in demo dataset</td>\n",
       "      <td>not available in demo dataset</td>\n",
       "      <td>Windows</td>\n",
       "      <td>not available in demo dataset</td>\n",
       "      <td>False</td>\n",
       "      <td>not available in demo dataset</td>\n",
       "      <td>not available in demo dataset</td>\n",
       "      <td>not available in demo dataset</td>\n",
       "      <td>not available in demo dataset</td>\n",
       "      <td>not available in demo dataset</td>\n",
       "      <td>not available in demo dataset</td>\n",
       "      <td>not available in demo dataset</td>\n",
       "      <td>not available in demo dataset</td>\n",
       "      <td>not available in demo dataset</td>\n",
       "      <td>desktop</td>\n",
       "      <td>Asia</td>\n",
       "      <td>Western Asia</td>\n",
       "      <td>Turkey</td>\n",
       "      <td>Izmir</td>\n",
       "      <td>(not set)</td>\n",
       "      <td>Izmir</td>\n",
       "      <td>not available in demo dataset</td>\n",
       "      <td>ttnet.com.tr</td>\n",
       "      <td>not available in demo dataset</td>\n",
       "      <td>not available in demo dataset</td>\n",
       "      <td>not available in demo dataset</td>\n",
       "      <td>1</td>\n",
       "      <td>1</td>\n",
       "      <td>1.0</td>\n",
       "      <td>1.0</td>\n",
       "      <td>1.0</td>\n",
       "      <td>0.0</td>\n",
       "      <td>(not set)</td>\n",
       "      <td>google</td>\n",
       "      <td>organic</td>\n",
       "      <td>(not provided)</td>\n",
       "      <td>not available in demo dataset</td>\n",
       "      <td>0</td>\n",
       "      <td>0</td>\n",
       "      <td>0.0</td>\n",
       "      <td>0</td>\n",
       "      <td>0</td>\n",
       "      <td>0</td>\n",
       "      <td>0</td>\n",
       "      <td>0</td>\n",
       "      <td>0</td>\n",
       "    </tr>\n",
       "    <tr>\n",
       "      <th>1</th>\n",
       "      <td>Organic Search</td>\n",
       "      <td>20160902</td>\n",
       "      <td>377306020877927890</td>\n",
       "      <td>377306020877927890_1472880147</td>\n",
       "      <td>Not Socially Engaged</td>\n",
       "      <td>1472880147</td>\n",
       "      <td>1</td>\n",
       "      <td>1472880147</td>\n",
       "      <td>Firefox</td>\n",
       "      <td>not available in demo dataset</td>\n",
       "      <td>not available in demo dataset</td>\n",
       "      <td>Macintosh</td>\n",
       "      <td>not available in demo dataset</td>\n",
       "      <td>False</td>\n",
       "      <td>not available in demo dataset</td>\n",
       "      <td>not available in demo dataset</td>\n",
       "      <td>not available in demo dataset</td>\n",
       "      <td>not available in demo dataset</td>\n",
       "      <td>not available in demo dataset</td>\n",
       "      <td>not available in demo dataset</td>\n",
       "      <td>not available in demo dataset</td>\n",
       "      <td>not available in demo dataset</td>\n",
       "      <td>not available in demo dataset</td>\n",
       "      <td>desktop</td>\n",
       "      <td>Oceania</td>\n",
       "      <td>Australasia</td>\n",
       "      <td>Australia</td>\n",
       "      <td>not available in demo dataset</td>\n",
       "      <td>not available in demo dataset</td>\n",
       "      <td>not available in demo dataset</td>\n",
       "      <td>not available in demo dataset</td>\n",
       "      <td>dodo.net.au</td>\n",
       "      <td>not available in demo dataset</td>\n",
       "      <td>not available in demo dataset</td>\n",
       "      <td>not available in demo dataset</td>\n",
       "      <td>1</td>\n",
       "      <td>1</td>\n",
       "      <td>1.0</td>\n",
       "      <td>1.0</td>\n",
       "      <td>1.0</td>\n",
       "      <td>0.0</td>\n",
       "      <td>(not set)</td>\n",
       "      <td>google</td>\n",
       "      <td>organic</td>\n",
       "      <td>(not provided)</td>\n",
       "      <td>not available in demo dataset</td>\n",
       "      <td>0</td>\n",
       "      <td>0</td>\n",
       "      <td>0.0</td>\n",
       "      <td>0</td>\n",
       "      <td>0</td>\n",
       "      <td>0</td>\n",
       "      <td>0</td>\n",
       "      <td>0</td>\n",
       "      <td>0</td>\n",
       "    </tr>\n",
       "    <tr>\n",
       "      <th>2</th>\n",
       "      <td>Organic Search</td>\n",
       "      <td>20160902</td>\n",
       "      <td>3895546263509774583</td>\n",
       "      <td>3895546263509774583_1472865386</td>\n",
       "      <td>Not Socially Engaged</td>\n",
       "      <td>1472865386</td>\n",
       "      <td>1</td>\n",
       "      <td>1472865386</td>\n",
       "      <td>Chrome</td>\n",
       "      <td>not available in demo dataset</td>\n",
       "      <td>not available in demo dataset</td>\n",
       "      <td>Windows</td>\n",
       "      <td>not available in demo dataset</td>\n",
       "      <td>False</td>\n",
       "      <td>not available in demo dataset</td>\n",
       "      <td>not available in demo dataset</td>\n",
       "      <td>not available in demo dataset</td>\n",
       "      <td>not available in demo dataset</td>\n",
       "      <td>not available in demo dataset</td>\n",
       "      <td>not available in demo dataset</td>\n",
       "      <td>not available in demo dataset</td>\n",
       "      <td>not available in demo dataset</td>\n",
       "      <td>not available in demo dataset</td>\n",
       "      <td>desktop</td>\n",
       "      <td>Europe</td>\n",
       "      <td>Southern Europe</td>\n",
       "      <td>Spain</td>\n",
       "      <td>Community of Madrid</td>\n",
       "      <td>(not set)</td>\n",
       "      <td>Madrid</td>\n",
       "      <td>not available in demo dataset</td>\n",
       "      <td>unknown.unknown</td>\n",
       "      <td>not available in demo dataset</td>\n",
       "      <td>not available in demo dataset</td>\n",
       "      <td>not available in demo dataset</td>\n",
       "      <td>1</td>\n",
       "      <td>1</td>\n",
       "      <td>1.0</td>\n",
       "      <td>1.0</td>\n",
       "      <td>1.0</td>\n",
       "      <td>0.0</td>\n",
       "      <td>(not set)</td>\n",
       "      <td>google</td>\n",
       "      <td>organic</td>\n",
       "      <td>(not provided)</td>\n",
       "      <td>not available in demo dataset</td>\n",
       "      <td>0</td>\n",
       "      <td>0</td>\n",
       "      <td>0.0</td>\n",
       "      <td>0</td>\n",
       "      <td>0</td>\n",
       "      <td>0</td>\n",
       "      <td>0</td>\n",
       "      <td>0</td>\n",
       "      <td>0</td>\n",
       "    </tr>\n",
       "  </tbody>\n",
       "</table>\n",
       "</div>"
      ],
      "text/plain": [
       "  channelGrouping      date        fullVisitorId  \\\n",
       "0  Organic Search  20160902  1131660440785968503   \n",
       "1  Organic Search  20160902   377306020877927890   \n",
       "2  Organic Search  20160902  3895546263509774583   \n",
       "\n",
       "                        sessionId  socialEngagementType     visitId  \\\n",
       "0  1131660440785968503_1472830385  Not Socially Engaged  1472830385   \n",
       "1   377306020877927890_1472880147  Not Socially Engaged  1472880147   \n",
       "2  3895546263509774583_1472865386  Not Socially Engaged  1472865386   \n",
       "\n",
       "   visitNumber  visitStartTime device_browser          device_browserVersion  \\\n",
       "0            1      1472830385         Chrome  not available in demo dataset   \n",
       "1            1      1472880147        Firefox  not available in demo dataset   \n",
       "2            1      1472865386         Chrome  not available in demo dataset   \n",
       "\n",
       "              device_browserSize device_operatingSystem  \\\n",
       "0  not available in demo dataset                Windows   \n",
       "1  not available in demo dataset              Macintosh   \n",
       "2  not available in demo dataset                Windows   \n",
       "\n",
       "   device_operatingSystemVersion  device_isMobile  \\\n",
       "0  not available in demo dataset            False   \n",
       "1  not available in demo dataset            False   \n",
       "2  not available in demo dataset            False   \n",
       "\n",
       "     device_mobileDeviceBranding       device_mobileDeviceModel  \\\n",
       "0  not available in demo dataset  not available in demo dataset   \n",
       "1  not available in demo dataset  not available in demo dataset   \n",
       "2  not available in demo dataset  not available in demo dataset   \n",
       "\n",
       "      device_mobileInputSelector        device_mobileDeviceInfo  \\\n",
       "0  not available in demo dataset  not available in demo dataset   \n",
       "1  not available in demo dataset  not available in demo dataset   \n",
       "2  not available in demo dataset  not available in demo dataset   \n",
       "\n",
       "  device_mobileDeviceMarketingName            device_flashVersion  \\\n",
       "0    not available in demo dataset  not available in demo dataset   \n",
       "1    not available in demo dataset  not available in demo dataset   \n",
       "2    not available in demo dataset  not available in demo dataset   \n",
       "\n",
       "                 device_language            device_screenColors  \\\n",
       "0  not available in demo dataset  not available in demo dataset   \n",
       "1  not available in demo dataset  not available in demo dataset   \n",
       "2  not available in demo dataset  not available in demo dataset   \n",
       "\n",
       "         device_screenResolution device_deviceCategory geoNetwork_continent  \\\n",
       "0  not available in demo dataset               desktop                 Asia   \n",
       "1  not available in demo dataset               desktop              Oceania   \n",
       "2  not available in demo dataset               desktop               Europe   \n",
       "\n",
       "  geoNetwork_subContinent geoNetwork_country              geoNetwork_region  \\\n",
       "0            Western Asia             Turkey                          Izmir   \n",
       "1             Australasia          Australia  not available in demo dataset   \n",
       "2         Southern Europe              Spain            Community of Madrid   \n",
       "\n",
       "                geoNetwork_metro                geoNetwork_city  \\\n",
       "0                      (not set)                          Izmir   \n",
       "1  not available in demo dataset  not available in demo dataset   \n",
       "2                      (not set)                         Madrid   \n",
       "\n",
       "               geoNetwork_cityId geoNetwork_networkDomain  \\\n",
       "0  not available in demo dataset             ttnet.com.tr   \n",
       "1  not available in demo dataset              dodo.net.au   \n",
       "2  not available in demo dataset          unknown.unknown   \n",
       "\n",
       "             geoNetwork_latitude           geoNetwork_longitude  \\\n",
       "0  not available in demo dataset  not available in demo dataset   \n",
       "1  not available in demo dataset  not available in demo dataset   \n",
       "2  not available in demo dataset  not available in demo dataset   \n",
       "\n",
       "      geoNetwork_networkLocation  totals_visits  totals_hits  \\\n",
       "0  not available in demo dataset              1            1   \n",
       "1  not available in demo dataset              1            1   \n",
       "2  not available in demo dataset              1            1   \n",
       "\n",
       "   totals_pageviews  totals_bounces  totals_newVisits  \\\n",
       "0               1.0             1.0               1.0   \n",
       "1               1.0             1.0               1.0   \n",
       "2               1.0             1.0               1.0   \n",
       "\n",
       "   totals_transactionRevenue trafficSource_campaign trafficSource_source  \\\n",
       "0                        0.0              (not set)               google   \n",
       "1                        0.0              (not set)               google   \n",
       "2                        0.0              (not set)               google   \n",
       "\n",
       "  trafficSource_medium trafficSource_keyword  \\\n",
       "0              organic        (not provided)   \n",
       "1              organic        (not provided)   \n",
       "2              organic        (not provided)   \n",
       "\n",
       "  trafficSource_adwordsClickInfo.criteriaParameters  \\\n",
       "0                     not available in demo dataset   \n",
       "1                     not available in demo dataset   \n",
       "2                     not available in demo dataset   \n",
       "\n",
       "  trafficSource_isTrueDirect trafficSource_referralPath  \\\n",
       "0                          0                          0   \n",
       "1                          0                          0   \n",
       "2                          0                          0   \n",
       "\n",
       "   trafficSource_adwordsClickInfo.page trafficSource_adwordsClickInfo.slot  \\\n",
       "0                                  0.0                                   0   \n",
       "1                                  0.0                                   0   \n",
       "2                                  0.0                                   0   \n",
       "\n",
       "  trafficSource_adwordsClickInfo.gclId  \\\n",
       "0                                    0   \n",
       "1                                    0   \n",
       "2                                    0   \n",
       "\n",
       "  trafficSource_adwordsClickInfo.adNetworkType  \\\n",
       "0                                            0   \n",
       "1                                            0   \n",
       "2                                            0   \n",
       "\n",
       "  trafficSource_adwordsClickInfo.isVideoAd trafficSource_adContent  \\\n",
       "0                                        0                       0   \n",
       "1                                        0                       0   \n",
       "2                                        0                       0   \n",
       "\n",
       "  trafficSource_campaignCode  \n",
       "0                          0  \n",
       "1                          0  \n",
       "2                          0  "
      ]
     },
     "execution_count": 5,
     "metadata": {},
     "output_type": "execute_result"
    }
   ],
   "source": [
    "df.head(3)"
   ]
  },
  {
   "cell_type": "code",
   "execution_count": null,
   "metadata": {},
   "outputs": [],
   "source": [
    "# df_pro = pd.read_csv('./preproccessed_df.csv', low_memory=False)\n",
    "# df_pro.info()\n",
    "# df_pro.head()\n",
    "# df utf 값 변환관련 해결을 아직 못해서 pass.."
   ]
  },
  {
   "cell_type": "markdown",
   "metadata": {},
   "source": [
    "기간은 16-8-2 ~ 17-1-5 까지"
   ]
  },
  {
   "cell_type": "code",
   "execution_count": 7,
   "metadata": {},
   "outputs": [
    {
     "data": {
      "image/png": "[encoded data removed]",
      "text/plain": [
       "<Figure size 800x500 with 1 Axes>"
      ]
     },
     "metadata": {},
     "output_type": "display_data"
    }
   ],
   "source": [
    "# 채널 그룹별\n",
    "num_channel = df.groupby('channelGrouping')[['fullVisitorId']].count()\n",
    "num_channel = num_channel.sort_values(by = 'fullVisitorId', ascending = False )\n",
    "import matplotlib.pyplot as plt\n",
    "\n",
    "plt.figure(figsize = (8,5))\n",
    "plt.bar(num_channel.index, num_channel['fullVisitorId'])\n",
    "plt.xlabel('Channel Grouping')\n",
    "plt.ylabel('Count')\n",
    "plt.xticks(fontsize=8)\n",
    "plt.show()"
   ]
  },
  {
   "cell_type": "code",
   "execution_count": 8,
   "metadata": {},
   "outputs": [
    {
     "data": {
      "image/png": "[encoded data removed]",
      "text/plain": [
       "<Figure size 800x500 with 1 Axes>"
      ]
     },
     "metadata": {},
     "output_type": "display_data"
    }
   ],
   "source": [
    "device_count = df.groupby('device_deviceCategory')[['fullVisitorId']].count()\n",
    "device_count = device_count.sort_values(by = 'fullVisitorId', ascending = False )\n",
    "plt.figure(figsize = (8,5))\n",
    "plt.bar(device_count.index, device_count['fullVisitorId'])\n",
    "plt.xlabel('Device Grouping')\n",
    "plt.ylabel('Count')\n",
    "plt.xticks(fontsize=8)\n",
    "plt.show()"
   ]
  },
  {
   "cell_type": "code",
   "execution_count": 9,
   "metadata": {},
   "outputs": [
    {
     "data": {
      "image/png": "[encoded data removed]",
      "text/plain": [
       "<Figure size 800x500 with 1 Axes>"
      ]
     },
     "metadata": {},
     "output_type": "display_data"
    }
   ],
   "source": [
    "# 국가별\n",
    "country_count = df.groupby('geoNetwork_continent')[['fullVisitorId']].count()\n",
    "country_count = country_count.sort_values(by = 'fullVisitorId', ascending = False )\n",
    "\n",
    "plt.figure(figsize = (8,5))\n",
    "plt.bar(country_count.index, country_count['fullVisitorId'])\n",
    "plt.xlabel('Country Grouping')\n",
    "plt.ylabel('Count')\n",
    "plt.xticks(fontsize=8)\n",
    "plt.show()"
   ]
  },
  {
   "cell_type": "code",
   "execution_count": 6,
   "metadata": {},
   "outputs": [],
   "source": [
    "\n",
    "# revenue 여부를 나타내는 칼럼 추가\n",
    "df['revenue_check'] = df['totals_transactionRevenue'].copy()\n",
    "df['revenue_check'].fillna(0, inplace= True)\n",
    "df['revenue_check'] = df['revenue_check'].where(df['revenue_check'] == 0, 1)"
   ]
  },
  {
   "cell_type": "code",
   "execution_count": 8,
   "metadata": {},
   "outputs": [
    {
     "data": {
      "image/png": "[encoded data removed]",
      "text/plain": [
       "<Figure size 800x500 with 1 Axes>"
      ]
     },
     "metadata": {},
     "output_type": "display_data"
    }
   ],
   "source": [
    "# revenue 여부 시각화\n",
    "import matplotlib.pyplot as plt\n",
    "revenue_check_df = df.groupby('revenue_check')[['fullVisitorId']].count()\n",
    "\n",
    "plt.figure(figsize = (8,5))\n",
    "plt.bar(revenue_check_df.index, revenue_check_df['fullVisitorId'])\n",
    "plt.xlabel('revenue_check')\n",
    "plt.ylabel('Count')\n",
    "plt.xticks(fontsize=8)\n",
    "plt.show()"
   ]
  },
  {
   "cell_type": "code",
   "execution_count": 21,
   "metadata": {},
   "outputs": [],
   "source": [
    "num_df = df.groupby('fullVisitorId')[['revenue_check']].sum()"
   ]
  },
  {
   "cell_type": "code",
   "execution_count": 24,
   "metadata": {},
   "outputs": [],
   "source": [
    "num_df1 = pd.DataFrame({'fullVisitorId': num_df.index.repeat(num_df.shape[1]), 'count': num_df.values.flatten()})\n",
    "num_df1 = num_df1.sort_values(by = 'count', ascending = False )"
   ]
  },
  {
   "cell_type": "code",
   "execution_count": 25,
   "metadata": {},
   "outputs": [
    {
     "data": {
      "text/html": [
       "<div>\n",
       "<style scoped>\n",
       "    .dataframe tbody tr th:only-of-type {\n",
       "        vertical-align: middle;\n",
       "    }\n",
       "\n",
       "    .dataframe tbody tr th {\n",
       "        vertical-align: top;\n",
       "    }\n",
       "\n",
       "    .dataframe thead th {\n",
       "        text-align: right;\n",
       "    }\n",
       "</style>\n",
       "<table border=\"1\" class=\"dataframe\">\n",
       "  <thead>\n",
       "    <tr style=\"text-align: right;\">\n",
       "      <th></th>\n",
       "      <th>fullVisitorId</th>\n",
       "      <th>count</th>\n",
       "    </tr>\n",
       "  </thead>\n",
       "  <tbody>\n",
       "    <tr>\n",
       "      <th>557953</th>\n",
       "      <td>7813149961404844386</td>\n",
       "      <td>33.0</td>\n",
       "    </tr>\n",
       "    <tr>\n",
       "      <th>139589</th>\n",
       "      <td>1957458976293878100</td>\n",
       "      <td>16.0</td>\n",
       "    </tr>\n",
       "    <tr>\n",
       "      <th>355406</th>\n",
       "      <td>4984366501121503466</td>\n",
       "      <td>16.0</td>\n",
       "    </tr>\n",
       "    <tr>\n",
       "      <th>171253</th>\n",
       "      <td>2402527199731150932</td>\n",
       "      <td>15.0</td>\n",
       "    </tr>\n",
       "    <tr>\n",
       "      <th>482512</th>\n",
       "      <td>6760732402251466726</td>\n",
       "      <td>15.0</td>\n",
       "    </tr>\n",
       "  </tbody>\n",
       "</table>\n",
       "</div>"
      ],
      "text/plain": [
       "              fullVisitorId  count\n",
       "557953  7813149961404844386   33.0\n",
       "139589  1957458976293878100   16.0\n",
       "355406  4984366501121503466   16.0\n",
       "171253  2402527199731150932   15.0\n",
       "482512  6760732402251466726   15.0"
      ]
     },
     "execution_count": 25,
     "metadata": {},
     "output_type": "execute_result"
    }
   ],
   "source": [
    "num_df1.head()"
   ]
  },
  {
   "cell_type": "markdown",
   "metadata": {},
   "source": [
    "시간관련"
   ]
  },
  {
   "cell_type": "code",
   "execution_count": 17,
   "metadata": {},
   "outputs": [],
   "source": [
    "# 고객의 접속률\n",
    "ct_id = df.groupby('fullVisitorId')[['sessionId']].count()"
   ]
  },
  {
   "cell_type": "code",
   "execution_count": 18,
   "metadata": {},
   "outputs": [],
   "source": [
    "ct_id_df = pd.DataFrame({'fullVisitorId': ct_id.index.repeat(ct_id.shape[1]), 'count': ct_id.values.flatten()})\n",
    "ct_id_df = ct_id_df.sort_values(by = 'count', ascending = False )"
   ]
  },
  {
   "cell_type": "code",
   "execution_count": 20,
   "metadata": {},
   "outputs": [
    {
     "data": {
      "text/html": [
       "<div>\n",
       "<style scoped>\n",
       "    .dataframe tbody tr th:only-of-type {\n",
       "        vertical-align: middle;\n",
       "    }\n",
       "\n",
       "    .dataframe tbody tr th {\n",
       "        vertical-align: top;\n",
       "    }\n",
       "\n",
       "    .dataframe thead th {\n",
       "        text-align: right;\n",
       "    }\n",
       "</style>\n",
       "<table border=\"1\" class=\"dataframe\">\n",
       "  <thead>\n",
       "    <tr style=\"text-align: right;\">\n",
       "      <th></th>\n",
       "      <th>fullVisitorId</th>\n",
       "      <th>count</th>\n",
       "    </tr>\n",
       "  </thead>\n",
       "  <tbody>\n",
       "    <tr>\n",
       "      <th>139589</th>\n",
       "      <td>1957458976293878100</td>\n",
       "      <td>278</td>\n",
       "    </tr>\n",
       "    <tr>\n",
       "      <th>58716</th>\n",
       "      <td>0824839726118485274</td>\n",
       "      <td>255</td>\n",
       "    </tr>\n",
       "    <tr>\n",
       "      <th>257343</th>\n",
       "      <td>3608475193341679870</td>\n",
       "      <td>201</td>\n",
       "    </tr>\n",
       "    <tr>\n",
       "      <th>132193</th>\n",
       "      <td>1856749147915772585</td>\n",
       "      <td>199</td>\n",
       "    </tr>\n",
       "    <tr>\n",
       "      <th>233127</th>\n",
       "      <td>3269834865385146569</td>\n",
       "      <td>155</td>\n",
       "    </tr>\n",
       "  </tbody>\n",
       "</table>\n",
       "</div>"
      ],
      "text/plain": [
       "              fullVisitorId  count\n",
       "139589  1957458976293878100    278\n",
       "58716   0824839726118485274    255\n",
       "257343  3608475193341679870    201\n",
       "132193  1856749147915772585    199\n",
       "233127  3269834865385146569    155"
      ]
     },
     "execution_count": 20,
     "metadata": {},
     "output_type": "execute_result"
    }
   ],
   "source": [
    "ct_id_df.head()"
   ]
  },
  {
   "cell_type": "code",
   "execution_count": 26,
   "metadata": {},
   "outputs": [],
   "source": [
    "# 조인\n",
    "merge_ct_df = pd.merge(num_df1,ct_id_df, how='inner',on='fullVisitorId')"
   ]
  },
  {
   "cell_type": "code",
   "execution_count": 27,
   "metadata": {},
   "outputs": [
    {
     "data": {
      "text/html": [
       "<div>\n",
       "<style scoped>\n",
       "    .dataframe tbody tr th:only-of-type {\n",
       "        vertical-align: middle;\n",
       "    }\n",
       "\n",
       "    .dataframe tbody tr th {\n",
       "        vertical-align: top;\n",
       "    }\n",
       "\n",
       "    .dataframe thead th {\n",
       "        text-align: right;\n",
       "    }\n",
       "</style>\n",
       "<table border=\"1\" class=\"dataframe\">\n",
       "  <thead>\n",
       "    <tr style=\"text-align: right;\">\n",
       "      <th></th>\n",
       "      <th>fullVisitorId</th>\n",
       "      <th>count_x</th>\n",
       "      <th>count_y</th>\n",
       "    </tr>\n",
       "  </thead>\n",
       "  <tbody>\n",
       "    <tr>\n",
       "      <th>0</th>\n",
       "      <td>7813149961404844386</td>\n",
       "      <td>33.0</td>\n",
       "      <td>86</td>\n",
       "    </tr>\n",
       "    <tr>\n",
       "      <th>1</th>\n",
       "      <td>1957458976293878100</td>\n",
       "      <td>16.0</td>\n",
       "      <td>278</td>\n",
       "    </tr>\n",
       "    <tr>\n",
       "      <th>2</th>\n",
       "      <td>4984366501121503466</td>\n",
       "      <td>16.0</td>\n",
       "      <td>24</td>\n",
       "    </tr>\n",
       "    <tr>\n",
       "      <th>3</th>\n",
       "      <td>2402527199731150932</td>\n",
       "      <td>15.0</td>\n",
       "      <td>31</td>\n",
       "    </tr>\n",
       "    <tr>\n",
       "      <th>4</th>\n",
       "      <td>6760732402251466726</td>\n",
       "      <td>15.0</td>\n",
       "      <td>40</td>\n",
       "    </tr>\n",
       "    <tr>\n",
       "      <th>5</th>\n",
       "      <td>0608915197735218105</td>\n",
       "      <td>13.0</td>\n",
       "      <td>17</td>\n",
       "    </tr>\n",
       "  </tbody>\n",
       "</table>\n",
       "</div>"
      ],
      "text/plain": [
       "         fullVisitorId  count_x  count_y\n",
       "0  7813149961404844386     33.0       86\n",
       "1  1957458976293878100     16.0      278\n",
       "2  4984366501121503466     16.0       24\n",
       "3  2402527199731150932     15.0       31\n",
       "4  6760732402251466726     15.0       40\n",
       "5  0608915197735218105     13.0       17"
      ]
     },
     "execution_count": 27,
     "metadata": {},
     "output_type": "execute_result"
    }
   ],
   "source": [
    "merge_ct_df.head(6)"
   ]
  },
  {
   "cell_type": "code",
   "execution_count": 28,
   "metadata": {},
   "outputs": [
    {
     "data": {
      "text/plain": [
       "<AxesSubplot:xlabel='count_x', ylabel='count_y'>"
      ]
     },
     "execution_count": 28,
     "metadata": {},
     "output_type": "execute_result"
    },
    {
     "data": {
      "image/png": "[encoded data removed]",
      "text/plain": [
       "<Figure size 640x480 with 1 Axes>"
      ]
     },
     "metadata": {},
     "output_type": "display_data"
    }
   ],
   "source": [
    "import matplotlib.pyplot as plt\n",
    "import seaborn as sns  \n",
    "sns.scatterplot(data = merge_ct_df, x = 'count_x', y = 'count_y')\n"
   ]
  },
  {
   "cell_type": "code",
   "execution_count": 29,
   "metadata": {},
   "outputs": [],
   "source": [
    "# 고객 유형 파악"
   ]
  },
  {
   "cell_type": "code",
   "execution_count": null,
   "metadata": {},
   "outputs": [],
   "source": []
  },
  {
   "cell_type": "code",
   "execution_count": null,
   "metadata": {},
   "outputs": [],
   "source": [
    "# 데이터프레임에 한 열의 값을 바꾸기 위해서 def함수를 만들고 apply 적용\n",
    "import pandas as pd\n",
    "import datetime #날짜와 시간을 다루는 라이브러리\n",
    "import pytz #다양한 시간대를 처리하기 위해 사용하는 라이브러리\n",
    "\n",
    "# Posix 시간을 utc 시간으로 변환하는 함수\n",
    "def posix_to_utc(visitStartTime):\n",
    "    utc_time = datetime.datetime.utcfromtimestamp(visitStartTime)\n",
    "    return utc_time\n",
    "\n",
    "# Posix 시간을 UTC 지정한 로컬 시간대로 변환하는 함수\n",
    "def posix_to_utc_local(visitStartTime):\n",
    "    utc_time = datetime.datetime.utcfromtimestamp(visitStartTime) #posix -> utc시간대로\n",
    "    local_timezone = pytz.timezone('America/New_York')  # 지역 시간대\n",
    "    return utc_time.astimezone(local_timezone) # 그 지역 시간대로 변환"
   ]
  },
  {
   "cell_type": "code",
   "execution_count": null,
   "metadata": {},
   "outputs": [],
   "source": [
    "df['visitStartTime'] = df['visitStartTime'].apply(posix_to_utc)"
   ]
  },
  {
   "cell_type": "code",
   "execution_count": null,
   "metadata": {},
   "outputs": [],
   "source": []
  },
  {
   "cell_type": "code",
   "execution_count": null,
   "metadata": {},
   "outputs": [],
   "source": [
    "# DAU구하기\n",
    "df.groupby(df['visitStartTime'].dt.date)[['fullVisitorId']].nunique()"
   ]
  },
  {
   "cell_type": "code",
   "execution_count": null,
   "metadata": {},
   "outputs": [],
   "source": [
    "# WAU구하기\n",
    "df.groupby(df['visitStartTime'].dt.date)[['fullVisitorId']].nunique()"
   ]
  },
  {
   "cell_type": "markdown",
   "metadata": {},
   "source": [
    "리텐션 구하기\n",
    "- 클랳식\n",
    "- 롤러\n",
    "- 범위"
   ]
  },
  {
   "cell_type": "code",
   "execution_count": null,
   "metadata": {},
   "outputs": [],
   "source": [
    "a = 3\n",
    "b = 4"
   ]
  },
  {
   "cell_type": "code",
   "execution_count": null,
   "metadata": {},
   "outputs": [],
   "source": []
  }
 ],
 "metadata": {
  "kernelspec": {
   "display_name": "base",
   "language": "python",
   "name": "python3"
  },
  "language_info": {
   "codemirror_mode": {
    "name": "ipython",
    "version": 3
   },
   "file_extension": ".py",
   "mimetype": "text/x-python",
   "name": "python",
   "nbconvert_exporter": "python",
   "pygments_lexer": "ipython3",
   "version": "3.9.13"
  }
 },
 "nbformat": 4,
 "nbformat_minor": 2
}
