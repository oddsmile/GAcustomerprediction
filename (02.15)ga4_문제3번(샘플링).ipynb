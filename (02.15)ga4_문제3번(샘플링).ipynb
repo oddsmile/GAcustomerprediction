{
 "cells": [
  {
   "cell_type": "code",
   "execution_count": null,
   "metadata": {},
   "outputs": [],
   "source": [
    "#데이터 불러오기\n",
    "# 전처리한 데이터 불러오기\n",
    "import pandas as pd\n",
    "\n",
    "train_df = pd.read_csv('C://Users//and_c//Desktop//sparta_ga4//train_df3.csv', low_memory = False)\n",
    "df = train_df.copy()"
   ]
  },
  {
   "cell_type": "code",
   "execution_count": null,
   "metadata": {},
   "outputs": [],
   "source": [
    "# 데이터프레임에 한 열의 값을 바꾸기 위해서 def함수를 만들고 apply 적용\n",
    "import pandas as pd\n",
    "import datetime #날짜와 시간을 다루는 라이브러리\n",
    "import pytz #다양한 시간대를 처리하기 위해 사용하는 라이브러리\n",
    "\n",
    "# Posix 시간을 utc 시간으로 변환하는 함수\n",
    "def posix_to_utc(visitStartTime):\n",
    "    utc_time = datetime.datetime.utcfromtimestamp(visitStartTime)\n",
    "    return utc_time\n",
    "\n",
    "# Posix 시간을 UTC 지정한 로컬 시간대로 변환하는 함수\n",
    "def posix_to_utc_local(visitStartTime):\n",
    "    utc_time = datetime.datetime.utcfromtimestamp(visitStartTime) #posix -> utc시간대로\n",
    "    local_timezone = pytz.timezone('America/New_York')  # 지역 시간대\n",
    "    return utc_time.astimezone(local_timezone) # 그 지역 시간대로 변환"
   ]
  },
  {
   "cell_type": "code",
   "execution_count": null,
   "metadata": {},
   "outputs": [],
   "source": [
    "df['visitStartTime'] = df['visitStartTime'].apply(posix_to_utc)"
   ]
  },
  {
   "cell_type": "code",
   "execution_count": null,
   "metadata": {},
   "outputs": [],
   "source": [
    "# date칼럼 추가\n",
    "df['date'] = df['visitStartTime'].dt.date\n",
    "# type time으로 변경\n",
    "df['date'] = pd.to_datetime(df['date'])"
   ]
  },
  {
   "cell_type": "code",
   "execution_count": null,
   "metadata": {},
   "outputs": [],
   "source": [
    "# df 샘플링\n",
    "df_2016 = df[(df['date'] > '2016-11-01') & (df['date'] < '2017-01-01')]"
   ]
  },
  {
   "cell_type": "code",
   "execution_count": null,
   "metadata": {},
   "outputs": [],
   "source": [
    "# week기준으로 구분한 칼럼 추가\n",
    "df_2016['period_week'] = df_2016['visitStartTime'].dt.to_period('W').apply(lambda x: x.start_time.strftime('%Y-%m-%d'))"
   ]
  },
  {
   "cell_type": "code",
   "execution_count": null,
   "metadata": {},
   "outputs": [],
   "source": [
    "# user의 첫 방문날짜 칼럼 추가\n",
    "df_2016['cohort_week'] = df_2016.groupby('fullVisitorId')['period_week'].transform('min')"
   ]
  },
  {
   "cell_type": "code",
   "execution_count": null,
   "metadata": {},
   "outputs": [],
   "source": [
    "df_2016['period_week'] = pd.to_datetime(df_2016['period_week'])\n",
    "df_2016['cohort_week'] = pd.to_datetime(df_2016['cohort_week'])"
   ]
  },
  {
   "cell_type": "code",
   "execution_count": null,
   "metadata": {},
   "outputs": [],
   "source": [
    "# Cohort_index 구하기 ...\n",
    "df_2016['cohort_index'] = (df_2016['period_week'] - df_2016['cohort_week'])/7"
   ]
  },
  {
   "cell_type": "code",
   "execution_count": null,
   "metadata": {},
   "outputs": [],
   "source": [
    "# cohort index 0 days에서 0 숫자만 추출\n",
    "df_2016['cohort_index'] = df_2016['cohort_index'].dt.days"
   ]
  },
  {
   "cell_type": "code",
   "execution_count": null,
   "metadata": {},
   "outputs": [],
   "source": [
    "# cohort에 따른 user수 구하기\n",
    "cohort_table_2016 = df_2016.groupby(['cohort_week','cohort_index'])['fullVisitorId'].apply(pd.Series.nunique).reset_index()"
   ]
  },
  {
   "cell_type": "code",
   "execution_count": null,
   "metadata": {},
   "outputs": [],
   "source": [
    "# create Table\n",
    "cohort_pivot_2016 = cohort_table_2016.pivot(index = 'cohort_week', columns=['cohort_index'], values='fullVisitorId')"
   ]
  },
  {
   "cell_type": "code",
   "execution_count": null,
   "metadata": {},
   "outputs": [],
   "source": [
    "# 각 기준이 되는 값(1열)으로 나눠주기\n",
    "div_cohort_pivot_2016 = cohort_pivot_2016.divide(cohort_pivot_2016.iloc[:,0],axis=0)"
   ]
  },
  {
   "cell_type": "code",
   "execution_count": null,
   "metadata": {},
   "outputs": [],
   "source": [
    "import seaborn as sns\n",
    "import matplotlib.pyplot as plt\n",
    "\n",
    "# index 수정\n",
    "div_cohort_pivot_2016.index = div_cohort_pivot_2016.index.strftime('%Y-%m-%d')\n",
    "\n",
    "# heatmap\n",
    "plt.figure(figsize=(21,10))\n",
    "sns.heatmap(div_cohort_pivot_2016, annot = True, cmap='Blues',fmt = '.0%')\n",
    "plt.title('Weekly Retention', fontsize=20)\n",
    "plt.xlabel('week', fontsize=14)\n",
    "plt.ylabel('visit', fontsize=14)"
   ]
  }
 ],
 "metadata": {
  "kernelspec": {
   "display_name": "base",
   "language": "python",
   "name": "python3"
  },
  "language_info": {
   "name": "python",
   "version": "3.9.13"
  }
 },
 "nbformat": 4,
 "nbformat_minor": 2
}
