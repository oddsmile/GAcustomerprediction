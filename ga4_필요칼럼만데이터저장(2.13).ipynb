{
 "cells": [
  {
   "cell_type": "code",
   "execution_count": 1,
   "metadata": {},
   "outputs": [],
   "source": [
    "import pandas as pd\n",
    "\n",
    "df = pd.read_csv('C://Users//and_c//Desktop//sparta_ga4//train_df.csv', low_memory = False)"
   ]
  },
  {
   "cell_type": "code",
   "execution_count": 2,
   "metadata": {},
   "outputs": [],
   "source": [
    "df_2 = df[['fullVisitorId','channelGrouping','visitStartTime',\n",
    "    'device_browser','device_operatingSystem','device_deviceCategory',\n",
    "    'geoNetwork_continent','geoNetwork_subContinent','geoNetwork_country',\n",
    "    'totals_visits','totals_hits','totals_bounces','totals_newVisits','totals_transactionRevenue',\n",
    "    'trafficSource_source','trafficSource_medium','trafficSource_campaign']]"
   ]
  },
  {
   "cell_type": "code",
   "execution_count": 3,
   "metadata": {},
   "outputs": [
    {
     "name": "stderr",
     "output_type": "stream",
     "text": [
      "C:\\Users\\and_c\\AppData\\Local\\Temp\\ipykernel_20056\\3469277546.py:1: SettingWithCopyWarning: \n",
      "A value is trying to be set on a copy of a slice from a DataFrame\n",
      "\n",
      "See the caveats in the documentation: https://pandas.pydata.org/pandas-docs/stable/user_guide/indexing.html#returning-a-view-versus-a-copy\n",
      "  df_2.fillna(0, inplace = True)\n"
     ]
    }
   ],
   "source": [
    "df_2.fillna(0, inplace = True)"
   ]
  },
  {
   "cell_type": "code",
   "execution_count": 5,
   "metadata": {},
   "outputs": [],
   "source": [
    "df_2.to_csv('C://Users//and_c//Desktop//sparta_ga4//train_df3.csv', index = False)"
   ]
  },
  {
   "cell_type": "code",
   "execution_count": null,
   "metadata": {},
   "outputs": [],
   "source": []
  }
 ],
 "metadata": {
  "kernelspec": {
   "display_name": "base",
   "language": "python",
   "name": "python3"
  },
  "language_info": {
   "codemirror_mode": {
    "name": "ipython",
    "version": 3
   },
   "file_extension": ".py",
   "mimetype": "text/x-python",
   "name": "python",
   "nbconvert_exporter": "python",
   "pygments_lexer": "ipython3",
   "version": "3.9.13"
  }
 },
 "nbformat": 4,
 "nbformat_minor": 2
}
