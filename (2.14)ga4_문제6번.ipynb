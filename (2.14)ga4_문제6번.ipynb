{
 "cells": [
  {
   "cell_type": "markdown",
   "metadata": {},
   "source": [
    "- folium 기초 연습"
   ]
  },
  {
   "cell_type": "code",
   "execution_count": 1,
   "metadata": {},
   "outputs": [],
   "source": [
    "# folium 라이브러리 설치\n",
    "# !pip install folium\n",
    "\n",
    "import folium"
   ]
  },
  {
   "cell_type": "code",
   "execution_count": 2,
   "metadata": {},
   "outputs": [],
   "source": [
    "# 위도\n",
    "latitude = 37.394946\n",
    "# 경도\n",
    "longitude = 127.111104"
   ]
  },
  {
   "cell_type": "code",
   "execution_count": null,
   "metadata": {},
   "outputs": [],
   "source": [
    "# folium.Map 처음 화면에 나오는 부분을 설정\n",
    "m = folium.Map(location=[latitude, longitude],\n",
    "               zoom_start=17, # 확대 정도로 최대 18\n",
    "               width=750, # 넓이\n",
    "               height=500, # 높이\n",
    "               tiles = 'OpenStreetMap' # 지도 스타일 기본\n",
    "              )\n",
    "m\n",
    "\n",
    "#만약 저장하고 싶다면\n",
    "# m.save('name.html')"
   ]
  },
  {
   "cell_type": "code",
   "execution_count": null,
   "metadata": {},
   "outputs": [],
   "source": [
    "# 마커 표시하기 : folium.Marker([위도, 경도], ... ).add_to(지도)\n",
    "folium.Marker([latitude, longitude], # 마커를 추가할 위도 경도\n",
    "              popup=\"판교역\", # 마우스 클릭시 표기되는 문구\n",
    "              tooltip=\"판교역 입구\" # 마우스 오버시 표기되는 문구 #여기에 이미지나 영상링크를 추가할 수 있음\n",
    "              icon=folium.Icon('red', icon='star')).add_to(m)\n",
    "m"
   ]
  },
  {
   "cell_type": "code",
   "execution_count": null,
   "metadata": {},
   "outputs": [],
   "source": [
    "# 반경 원 표시하기 : folium.CircleMarker([위도, 경도], ... ).add_to(지도)\n",
    "folium.CircleMarker([latitude, longitude],\n",
    "                    color='tomato',\n",
    "                    radius = 50, \n",
    "                    tooltip='판교역 상권').add_to(m)\n",
    "m"
   ]
  },
  {
   "cell_type": "markdown",
   "metadata": {},
   "source": [
    "국가별 DAU 평균을 Folium으로 시각화하기"
   ]
  },
  {
   "cell_type": "code",
   "execution_count": null,
   "metadata": {},
   "outputs": [],
   "source": [
    "# 데이터 로드\n",
    "import pandas as pd\n",
    "\n",
    "df = pd.read_csv('/content/preproccessed_df.csv')\n",
    "\n"
   ]
  },
  {
   "cell_type": "code",
   "execution_count": null,
   "metadata": {},
   "outputs": [],
   "source": [
    "# 주어진 국가들의 대략적인 중심 위도와 경도\n",
    "country_coordinates = {\n",
    "    'United States': (37.0902, -95.7129),\n",
    "    'India': (20.5937, 78.9629),\n",
    "    'United Kingdom': (55.3781, -3.4360),\n",
    "    'Canada': (56.1304, -106.3468),\n",
    "    'Vietnam': (14.0583, 108.2772),\n",
    "    'Turkey': (38.9637, 35.2433),\n",
    "    'Thailand': (15.8700, 100.9925),\n",
    "    'Germany': (51.1657, 10.4515),\n",
    "    'Brazil': (-14.2350, -51.9253),\n",
    "    'Japan': (36.2048, 138.2529)\n",
    "}\n",
    "\n",
    "\n",
    "\n",
    "# 주어진 국가들의 DAU 평균 계산\n",
    "country_dau_avg = df[df['country'].isin(country_coordinates.keys())].groupby('country')['visits'].mean().reset_index()"
   ]
  },
  {
   "cell_type": "code",
   "execution_count": null,
   "metadata": {},
   "outputs": [],
   "source": [
    "# folium 라이브러리 불러오기\n",
    "import folium\n",
    "\n",
    "# Folium 지도 객체 생성\n",
    "m = folium.Map(location=[0, 0], zoom_start=2)"
   ]
  },
  {
   "cell_type": "code",
   "execution_count": null,
   "metadata": {},
   "outputs": [],
   "source": [
    "# 주어진 국가들의 DAU 평균을 지도에 시각화\n",
    "for index, row in country_dau_avg.iterrows():\n",
    "    country = row['country']\n",
    "    if country in country_coordinates:\n",
    "        folium.Marker(\n",
    "            location=country_coordinates[country],\n",
    "            popup=f\"{country}: {row['visits']}\",\n",
    "            icon=folium.Icon(color='blue')\n",
    "        ).add_to(m)"
   ]
  },
  {
   "cell_type": "code",
   "execution_count": null,
   "metadata": {},
   "outputs": [],
   "source": [
    "# # 결과 지도 저장\n",
    "# m.save('selected_countries_dau_avg_map.html')"
   ]
  },
  {
   "cell_type": "code",
   "execution_count": null,
   "metadata": {},
   "outputs": [],
   "source": [
    "import folium\n",
    "\n",
    "# 위도와 경도 정보 추가\n",
    "top_10_countries['latitude'] = [37.0902, 20.5937, 55.3781, 14.0583, 56.1304, 15.8700, 38.9637, -14.2350, 51.1657, 36.2048]\n",
    "top_10_countries['longitude'] = [-95.7129, 78.9629, -3.4360, 108.2772, -106.3468, 100.9925, 35.2433, -51.9253, 10.4515, 138.2529]\n",
    "\n",
    "# 지도 생성, location 파라미터는 초기 지도의 중심 좌표를 설정하고, zoom_start 파라미터는 초기 확대 레벨을 설정\n",
    "world_map = folium.Map(location=[0, 0], zoom_start=2)\n",
    "\n",
    "# 각 국가를 지도에 표시\n",
    "for i in range(len(top_10_countries)):\n",
    "    folium.CircleMarker(\n",
    "        location=[top_10_countries.at[i, 'latitude'], top_10_countries.at[i, 'longitude']],\n",
    "        radius=top_10_countries.at[i, 'DAU'] / 1000,  # Adjust this value to properly scale the size of the marker\n",
    "        color=\"blue\",\n",
    "        fill=True,\n",
    "        fill_color=\"blue\",\n",
    "        popup=folium.Popup(top_10_countries.at[i, 'country'], parse_html=True)  # Add country name popup\n",
    "    ).add_to(world_map)\n",
    "\n",
    "# 지도 출력\n",
    "world_map"
   ]
  },
  {
   "cell_type": "code",
   "execution_count": null,
   "metadata": {},
   "outputs": [],
   "source": []
  },
  {
   "cell_type": "code",
   "execution_count": null,
   "metadata": {},
   "outputs": [],
   "source": []
  }
 ],
 "metadata": {
  "kernelspec": {
   "display_name": "base",
   "language": "python",
   "name": "python3"
  },
  "language_info": {
   "codemirror_mode": {
    "name": "ipython",
    "version": 3
   },
   "file_extension": ".py",
   "mimetype": "text/x-python",
   "name": "python",
   "nbconvert_exporter": "python",
   "pygments_lexer": "ipython3",
   "version": "3.9.13"
  }
 },
 "nbformat": 4,
 "nbformat_minor": 2
}
