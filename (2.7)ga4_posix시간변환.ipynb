{
 "cells": [
  {
   "cell_type": "code",
   "execution_count": 1,
   "metadata": {},
   "outputs": [],
   "source": [
    "# 데이터프레임에 한 열의 값을 바꾸기 위해서 def함수를 만들고 apply 적용\n",
    "import pandas as pd\n",
    "import datetime #날짜와 시간을 다루는 라이브러리\n",
    "import pytz #다양한 시간대를 처리하기 위해 사용하는 라이브러리\n",
    "\n",
    "# Posix 시간을 utc 시간으로 변환하는 함수\n",
    "def posix_to_utc(visitStartTime):\n",
    "    utc_time = datetime.datetime.utcfromtimestamp(visitStartTime)\n",
    "    return utc_time\n",
    "\n",
    "# Posix 시간을 UTC 지정한 로컬 시간대로 변환하는 함수\n",
    "def posix_to_utc_local(visitStartTime):\n",
    "    utc_time = datetime.datetime.utcfromtimestamp(visitStartTime) #posix -> utc시간대로\n",
    "    local_timezone = pytz.timezone('America/New_York')  # 지역 시간대\n",
    "    return utc_time.astimezone(local_timezone) # 그 지역 시간대로 변환"
   ]
  },
  {
   "cell_type": "code",
   "execution_count": null,
   "metadata": {},
   "outputs": [],
   "source": [
    "df_test['utc_local_time'] = df_test['visitStartTime'].apply(posix_to_utc)"
   ]
  },
  {
   "cell_type": "code",
   "execution_count": null,
   "metadata": {},
   "outputs": [],
   "source": [
    "df_test[['date','utc_local_time']]"
   ]
  }
 ],
 "metadata": {
  "kernelspec": {
   "display_name": "base",
   "language": "python",
   "name": "python3"
  },
  "language_info": {
   "codemirror_mode": {
    "name": "ipython",
    "version": 3
   },
   "file_extension": ".py",
   "mimetype": "text/x-python",
   "name": "python",
   "nbconvert_exporter": "python",
   "pygments_lexer": "ipython3",
   "version": "3.9.13"
  }
 },
 "nbformat": 4,
 "nbformat_minor": 2
}
