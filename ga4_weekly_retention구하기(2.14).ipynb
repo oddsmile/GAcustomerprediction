{
 "cells": [
  {
   "cell_type": "markdown",
   "metadata": {},
   "source": [
    "방문 주차에 따른 코호트를 생성하고, 코호트 별로 weekly 리텐션을 구하고 이를 heatmap으로 시각화"
   ]
  },
  {
   "cell_type": "markdown",
   "metadata": {},
   "source": [
    "[참고 링크](https://www.youtube.com/watch?v=WWUG7T9ixTs)"
   ]
  },
  {
   "cell_type": "code",
   "execution_count": 3,
   "metadata": {},
   "outputs": [],
   "source": [
    "# 전처리한 데이터 불러오기\n",
    "import pandas as pd\n",
    "\n",
    "df = pd.read_csv('C://Users//and_c//Desktop//sparta_ga4//train_df3.csv', low_memory = False)"
   ]
  },
  {
   "cell_type": "code",
   "execution_count": 4,
   "metadata": {},
   "outputs": [
    {
     "name": "stdout",
     "output_type": "stream",
     "text": [
      "<class 'pandas.core.frame.DataFrame'>\n",
      "RangeIndex: 903653 entries, 0 to 903652\n",
      "Data columns (total 17 columns):\n",
      " #   Column                     Non-Null Count   Dtype  \n",
      "---  ------                     --------------   -----  \n",
      " 0   fullVisitorId              903653 non-null  object \n",
      " 1   channelGrouping            903653 non-null  object \n",
      " 2   visitStartTime             903653 non-null  int64  \n",
      " 3   device_browser             903653 non-null  object \n",
      " 4   device_operatingSystem     903653 non-null  object \n",
      " 5   device_deviceCategory      903653 non-null  object \n",
      " 6   geoNetwork_continent       903653 non-null  object \n",
      " 7   geoNetwork_subContinent    903653 non-null  object \n",
      " 8   geoNetwork_country         903653 non-null  object \n",
      " 9   totals_visits              903653 non-null  int64  \n",
      " 10  totals_hits                903653 non-null  int64  \n",
      " 11  totals_bounces             903653 non-null  float64\n",
      " 12  totals_newVisits           903653 non-null  float64\n",
      " 13  totals_transactionRevenue  903653 non-null  float64\n",
      " 14  trafficSource_source       903653 non-null  object \n",
      " 15  trafficSource_medium       903653 non-null  object \n",
      " 16  trafficSource_campaign     903653 non-null  object \n",
      "dtypes: float64(3), int64(3), object(11)\n",
      "memory usage: 117.2+ MB\n"
     ]
    }
   ],
   "source": [
    "df.info()"
   ]
  },
  {
   "cell_type": "code",
   "execution_count": 5,
   "metadata": {},
   "outputs": [
    {
     "data": {
      "text/html": [
       "<div>\n",
       "<style scoped>\n",
       "    .dataframe tbody tr th:only-of-type {\n",
       "        vertical-align: middle;\n",
       "    }\n",
       "\n",
       "    .dataframe tbody tr th {\n",
       "        vertical-align: top;\n",
       "    }\n",
       "\n",
       "    .dataframe thead th {\n",
       "        text-align: right;\n",
       "    }\n",
       "</style>\n",
       "<table border=\"1\" class=\"dataframe\">\n",
       "  <thead>\n",
       "    <tr style=\"text-align: right;\">\n",
       "      <th></th>\n",
       "      <th>fullVisitorId</th>\n",
       "      <th>channelGrouping</th>\n",
       "      <th>visitStartTime</th>\n",
       "      <th>device_browser</th>\n",
       "      <th>device_operatingSystem</th>\n",
       "      <th>device_deviceCategory</th>\n",
       "      <th>geoNetwork_continent</th>\n",
       "      <th>geoNetwork_subContinent</th>\n",
       "      <th>geoNetwork_country</th>\n",
       "      <th>totals_visits</th>\n",
       "      <th>totals_hits</th>\n",
       "      <th>totals_bounces</th>\n",
       "      <th>totals_newVisits</th>\n",
       "      <th>totals_transactionRevenue</th>\n",
       "      <th>trafficSource_source</th>\n",
       "      <th>trafficSource_medium</th>\n",
       "      <th>trafficSource_campaign</th>\n",
       "    </tr>\n",
       "  </thead>\n",
       "  <tbody>\n",
       "    <tr>\n",
       "      <th>0</th>\n",
       "      <td>1131660440785968503</td>\n",
       "      <td>Organic Search</td>\n",
       "      <td>1472830385</td>\n",
       "      <td>Chrome</td>\n",
       "      <td>Windows</td>\n",
       "      <td>desktop</td>\n",
       "      <td>Asia</td>\n",
       "      <td>Western Asia</td>\n",
       "      <td>Turkey</td>\n",
       "      <td>1</td>\n",
       "      <td>1</td>\n",
       "      <td>1.0</td>\n",
       "      <td>1.0</td>\n",
       "      <td>0.0</td>\n",
       "      <td>google</td>\n",
       "      <td>organic</td>\n",
       "      <td>(not set)</td>\n",
       "    </tr>\n",
       "    <tr>\n",
       "      <th>1</th>\n",
       "      <td>377306020877927890</td>\n",
       "      <td>Organic Search</td>\n",
       "      <td>1472880147</td>\n",
       "      <td>Firefox</td>\n",
       "      <td>Macintosh</td>\n",
       "      <td>desktop</td>\n",
       "      <td>Oceania</td>\n",
       "      <td>Australasia</td>\n",
       "      <td>Australia</td>\n",
       "      <td>1</td>\n",
       "      <td>1</td>\n",
       "      <td>1.0</td>\n",
       "      <td>1.0</td>\n",
       "      <td>0.0</td>\n",
       "      <td>google</td>\n",
       "      <td>organic</td>\n",
       "      <td>(not set)</td>\n",
       "    </tr>\n",
       "    <tr>\n",
       "      <th>2</th>\n",
       "      <td>3895546263509774583</td>\n",
       "      <td>Organic Search</td>\n",
       "      <td>1472865386</td>\n",
       "      <td>Chrome</td>\n",
       "      <td>Windows</td>\n",
       "      <td>desktop</td>\n",
       "      <td>Europe</td>\n",
       "      <td>Southern Europe</td>\n",
       "      <td>Spain</td>\n",
       "      <td>1</td>\n",
       "      <td>1</td>\n",
       "      <td>1.0</td>\n",
       "      <td>1.0</td>\n",
       "      <td>0.0</td>\n",
       "      <td>google</td>\n",
       "      <td>organic</td>\n",
       "      <td>(not set)</td>\n",
       "    </tr>\n",
       "    <tr>\n",
       "      <th>3</th>\n",
       "      <td>4763447161404445595</td>\n",
       "      <td>Organic Search</td>\n",
       "      <td>1472881213</td>\n",
       "      <td>UC Browser</td>\n",
       "      <td>Linux</td>\n",
       "      <td>desktop</td>\n",
       "      <td>Asia</td>\n",
       "      <td>Southeast Asia</td>\n",
       "      <td>Indonesia</td>\n",
       "      <td>1</td>\n",
       "      <td>1</td>\n",
       "      <td>1.0</td>\n",
       "      <td>1.0</td>\n",
       "      <td>0.0</td>\n",
       "      <td>google</td>\n",
       "      <td>organic</td>\n",
       "      <td>(not set)</td>\n",
       "    </tr>\n",
       "    <tr>\n",
       "      <th>4</th>\n",
       "      <td>27294437909732085</td>\n",
       "      <td>Organic Search</td>\n",
       "      <td>1472822600</td>\n",
       "      <td>Chrome</td>\n",
       "      <td>Android</td>\n",
       "      <td>mobile</td>\n",
       "      <td>Europe</td>\n",
       "      <td>Northern Europe</td>\n",
       "      <td>United Kingdom</td>\n",
       "      <td>1</td>\n",
       "      <td>1</td>\n",
       "      <td>1.0</td>\n",
       "      <td>0.0</td>\n",
       "      <td>0.0</td>\n",
       "      <td>google</td>\n",
       "      <td>organic</td>\n",
       "      <td>(not set)</td>\n",
       "    </tr>\n",
       "  </tbody>\n",
       "</table>\n",
       "</div>"
      ],
      "text/plain": [
       "         fullVisitorId channelGrouping  visitStartTime device_browser  \\\n",
       "0  1131660440785968503  Organic Search      1472830385         Chrome   \n",
       "1   377306020877927890  Organic Search      1472880147        Firefox   \n",
       "2  3895546263509774583  Organic Search      1472865386         Chrome   \n",
       "3  4763447161404445595  Organic Search      1472881213     UC Browser   \n",
       "4    27294437909732085  Organic Search      1472822600         Chrome   \n",
       "\n",
       "  device_operatingSystem device_deviceCategory geoNetwork_continent  \\\n",
       "0                Windows               desktop                 Asia   \n",
       "1              Macintosh               desktop              Oceania   \n",
       "2                Windows               desktop               Europe   \n",
       "3                  Linux               desktop                 Asia   \n",
       "4                Android                mobile               Europe   \n",
       "\n",
       "  geoNetwork_subContinent geoNetwork_country  totals_visits  totals_hits  \\\n",
       "0            Western Asia             Turkey              1            1   \n",
       "1             Australasia          Australia              1            1   \n",
       "2         Southern Europe              Spain              1            1   \n",
       "3          Southeast Asia          Indonesia              1            1   \n",
       "4         Northern Europe     United Kingdom              1            1   \n",
       "\n",
       "   totals_bounces  totals_newVisits  totals_transactionRevenue  \\\n",
       "0             1.0               1.0                        0.0   \n",
       "1             1.0               1.0                        0.0   \n",
       "2             1.0               1.0                        0.0   \n",
       "3             1.0               1.0                        0.0   \n",
       "4             1.0               0.0                        0.0   \n",
       "\n",
       "  trafficSource_source trafficSource_medium trafficSource_campaign  \n",
       "0               google              organic              (not set)  \n",
       "1               google              organic              (not set)  \n",
       "2               google              organic              (not set)  \n",
       "3               google              organic              (not set)  \n",
       "4               google              organic              (not set)  "
      ]
     },
     "execution_count": 5,
     "metadata": {},
     "output_type": "execute_result"
    }
   ],
   "source": [
    "df.head()"
   ]
  },
  {
   "cell_type": "code",
   "execution_count": 6,
   "metadata": {},
   "outputs": [],
   "source": [
    "# 데이터프레임에 한 열의 값을 바꾸기 위해서 def함수를 만들고 apply 적용\n",
    "import pandas as pd\n",
    "import datetime #날짜와 시간을 다루는 라이브러리\n",
    "import pytz #다양한 시간대를 처리하기 위해 사용하는 라이브러리\n",
    "\n",
    "# Posix 시간을 utc 시간으로 변환하는 함수\n",
    "def posix_to_utc(visitStartTime):\n",
    "    utc_time = datetime.datetime.utcfromtimestamp(visitStartTime)\n",
    "    return utc_time\n",
    "\n",
    "# Posix 시간을 UTC 지정한 로컬 시간대로 변환하는 함수\n",
    "def posix_to_utc_local(visitStartTime):\n",
    "    utc_time = datetime.datetime.utcfromtimestamp(visitStartTime) #posix -> utc시간대로\n",
    "    local_timezone = pytz.timezone('America/New_York')  # 지역 시간대\n",
    "    return utc_time.astimezone(local_timezone) # 그 지역 시간대로 변환"
   ]
  },
  {
   "cell_type": "code",
   "execution_count": 7,
   "metadata": {},
   "outputs": [],
   "source": [
    "df['visitStartTime'] = df['visitStartTime'].apply(posix_to_utc)"
   ]
  },
  {
   "cell_type": "code",
   "execution_count": 8,
   "metadata": {},
   "outputs": [],
   "source": [
    "# date 칼럼 추가하기\n",
    "df['date'] = df['visitStartTime'].dt.date"
   ]
  },
  {
   "cell_type": "code",
   "execution_count": 9,
   "metadata": {},
   "outputs": [],
   "source": [
    "# week기준으로 구분한 칼럼 추가\n",
    "df['period_week'] = df['visitStartTime'].dt.to_period('W').apply(lambda x: x.start_time.strftime('%Y-%m-%d'))\n"
   ]
  },
  {
   "cell_type": "code",
   "execution_count": 10,
   "metadata": {},
   "outputs": [],
   "source": [
    "# user의 첫 방문날짜 칼럼 추가\n",
    "df['cohort_week'] = df.groupby('fullVisitorId')['period_week'].transform('min')"
   ]
  },
  {
   "cell_type": "code",
   "execution_count": 11,
   "metadata": {},
   "outputs": [
    {
     "data": {
      "text/html": [
       "<div>\n",
       "<style scoped>\n",
       "    .dataframe tbody tr th:only-of-type {\n",
       "        vertical-align: middle;\n",
       "    }\n",
       "\n",
       "    .dataframe tbody tr th {\n",
       "        vertical-align: top;\n",
       "    }\n",
       "\n",
       "    .dataframe thead th {\n",
       "        text-align: right;\n",
       "    }\n",
       "</style>\n",
       "<table border=\"1\" class=\"dataframe\">\n",
       "  <thead>\n",
       "    <tr style=\"text-align: right;\">\n",
       "      <th></th>\n",
       "      <th>period_week</th>\n",
       "      <th>cohort_week</th>\n",
       "    </tr>\n",
       "  </thead>\n",
       "  <tbody>\n",
       "    <tr>\n",
       "      <th>903648</th>\n",
       "      <td>2017-01-02</td>\n",
       "      <td>2017-01-02</td>\n",
       "    </tr>\n",
       "    <tr>\n",
       "      <th>903649</th>\n",
       "      <td>2017-01-02</td>\n",
       "      <td>2017-01-02</td>\n",
       "    </tr>\n",
       "    <tr>\n",
       "      <th>903650</th>\n",
       "      <td>2017-01-02</td>\n",
       "      <td>2017-01-02</td>\n",
       "    </tr>\n",
       "    <tr>\n",
       "      <th>903651</th>\n",
       "      <td>2017-01-02</td>\n",
       "      <td>2017-01-02</td>\n",
       "    </tr>\n",
       "    <tr>\n",
       "      <th>903652</th>\n",
       "      <td>2017-01-02</td>\n",
       "      <td>2017-01-02</td>\n",
       "    </tr>\n",
       "  </tbody>\n",
       "</table>\n",
       "</div>"
      ],
      "text/plain": [
       "       period_week cohort_week\n",
       "903648  2017-01-02  2017-01-02\n",
       "903649  2017-01-02  2017-01-02\n",
       "903650  2017-01-02  2017-01-02\n",
       "903651  2017-01-02  2017-01-02\n",
       "903652  2017-01-02  2017-01-02"
      ]
     },
     "execution_count": 11,
     "metadata": {},
     "output_type": "execute_result"
    }
   ],
   "source": [
    "df[['period_week','cohort_week']].tail()"
   ]
  },
  {
   "cell_type": "code",
   "execution_count": 35,
   "metadata": {},
   "outputs": [],
   "source": [
    "# Cohort_index 구하기 ...\n",
    "df['cohort_index'] = (df['period_week'] - df['cohort_week'])/7"
   ]
  },
  {
   "cell_type": "code",
   "execution_count": 41,
   "metadata": {},
   "outputs": [],
   "source": [
    "# df.groupby(['period_week','cohort_index'])['fullVisitorId'].nunique()\n",
    "cohort_table = df.groupby(['period_week','cohort_index'])['fullVisitorId'].apply(pd.Series.nunique).reset_index()"
   ]
  },
  {
   "cell_type": "code",
   "execution_count": 2,
   "metadata": {},
   "outputs": [
    {
     "ename": "NameError",
     "evalue": "name 'cohort_table' is not defined",
     "output_type": "error",
     "traceback": [
      "\u001b[1;31m---------------------------------------------------------------------------\u001b[0m",
      "\u001b[1;31mNameError\u001b[0m                                 Traceback (most recent call last)",
      "\u001b[1;32m~\\AppData\\Local\\Temp\\ipykernel_21972\\823203890.py\u001b[0m in \u001b[0;36m<module>\u001b[1;34m\u001b[0m\n\u001b[0;32m      1\u001b[0m \u001b[1;31m# create Table\u001b[0m\u001b[1;33m\u001b[0m\u001b[1;33m\u001b[0m\u001b[0m\n\u001b[1;32m----> 2\u001b[1;33m \u001b[0mcohort_table_pivot\u001b[0m \u001b[1;33m=\u001b[0m \u001b[0mcohort_table\u001b[0m\u001b[1;33m.\u001b[0m\u001b[0mpivot\u001b[0m\u001b[1;33m(\u001b[0m\u001b[0mindex\u001b[0m \u001b[1;33m=\u001b[0m \u001b[1;34m'period_week'\u001b[0m\u001b[1;33m,\u001b[0m \u001b[0mcolumns\u001b[0m\u001b[1;33m=\u001b[0m\u001b[1;33m[\u001b[0m\u001b[1;34m'cohort_index'\u001b[0m\u001b[1;33m]\u001b[0m\u001b[1;33m,\u001b[0m \u001b[0mvalues\u001b[0m\u001b[1;33m=\u001b[0m\u001b[1;34m'fullVisitorId'\u001b[0m\u001b[1;33m)\u001b[0m\u001b[1;33m\u001b[0m\u001b[1;33m\u001b[0m\u001b[0m\n\u001b[0m",
      "\u001b[1;31mNameError\u001b[0m: name 'cohort_table' is not defined"
     ]
    }
   ],
   "source": [
    "# create Table\n",
    "cohort_table_pivot = cohort_table.pivot(index = 'period_week', columns=['cohort_index'], values='fullVisitorId')"
   ]
  },
  {
   "cell_type": "code",
   "execution_count": 46,
   "metadata": {},
   "outputs": [],
   "source": [
    "div_cohort_pivot = cohort_table_pivot.divide(cohort_table_pivot.iloc[:,0],axis=0)"
   ]
  },
  {
   "cell_type": "code",
   "execution_count": 3,
   "metadata": {},
   "outputs": [
    {
     "ename": "NameError",
     "evalue": "name 'div_cohort_pivot' is not defined",
     "output_type": "error",
     "traceback": [
      "\u001b[1;31m---------------------------------------------------------------------------\u001b[0m",
      "\u001b[1;31mNameError\u001b[0m                                 Traceback (most recent call last)",
      "\u001b[1;32m~\\AppData\\Local\\Temp\\ipykernel_21972\\2765169920.py\u001b[0m in \u001b[0;36m<module>\u001b[1;34m\u001b[0m\n\u001b[0;32m      3\u001b[0m \u001b[1;33m\u001b[0m\u001b[0m\n\u001b[0;32m      4\u001b[0m \u001b[1;31m# index 수정\u001b[0m\u001b[1;33m\u001b[0m\u001b[1;33m\u001b[0m\u001b[0m\n\u001b[1;32m----> 5\u001b[1;33m \u001b[0mdiv_cohort_pivot\u001b[0m\u001b[1;33m.\u001b[0m\u001b[0mindex\u001b[0m \u001b[1;33m=\u001b[0m \u001b[0mdiv_cohort_pivot\u001b[0m\u001b[1;33m.\u001b[0m\u001b[0mindex\u001b[0m\u001b[1;33m.\u001b[0m\u001b[0mstrftime\u001b[0m\u001b[1;33m(\u001b[0m\u001b[1;34m'%Y-%m'\u001b[0m\u001b[1;33m)\u001b[0m\u001b[1;33m\u001b[0m\u001b[1;33m\u001b[0m\u001b[0m\n\u001b[0m\u001b[0;32m      6\u001b[0m \u001b[1;31m# heatmap\u001b[0m\u001b[1;33m\u001b[0m\u001b[1;33m\u001b[0m\u001b[0m\n\u001b[0;32m      7\u001b[0m \u001b[0mplt\u001b[0m\u001b[1;33m.\u001b[0m\u001b[0mfigure\u001b[0m\u001b[1;33m(\u001b[0m\u001b[0mfigsize\u001b[0m\u001b[1;33m=\u001b[0m\u001b[1;33m(\u001b[0m\u001b[1;36m21\u001b[0m\u001b[1;33m,\u001b[0m\u001b[1;36m10\u001b[0m\u001b[1;33m)\u001b[0m\u001b[1;33m)\u001b[0m\u001b[1;33m\u001b[0m\u001b[1;33m\u001b[0m\u001b[0m\n",
      "\u001b[1;31mNameError\u001b[0m: name 'div_cohort_pivot' is not defined"
     ]
    }
   ],
   "source": [
    "import seaborn as sns\n",
    "import matplotlib.pyplot as plt\n",
    "\n",
    "# index 수정\n",
    "# div_cohort_pivot.index = div_cohort_pivot.index.strftime('%Y-%m')\n",
    "\n",
    "# heatmap\n",
    "plt.figure(figsize=(21,10))\n",
    "sns.heatmap(div_cohort_pivot, annot = True, cmap='Blues',fmt = '.0%')"
   ]
  },
  {
   "cell_type": "code",
   "execution_count": null,
   "metadata": {},
   "outputs": [],
   "source": [
    "# plt.rcParams['figure.figsize'] = [10,8]\n",
    "# plt.pcolor(table)\n",
    "# # 또는 sns.heatmap()\n",
    "# # 피벗테이블의 df를 pandas를 이용해 표현도 가능 df.style.background_gradient\n",
    "# plt.title('Weekly Retention', fontsize=20)\n",
    "# plt.xlabel('week', fontsize=14)\n",
    "# plt.ylabel('visit', fontsize=14)\n",
    "# plt.colorbar()"
   ]
  },
  {
   "cell_type": "code",
   "execution_count": null,
   "metadata": {},
   "outputs": [],
   "source": []
  }
 ],
 "metadata": {
  "kernelspec": {
   "display_name": "base",
   "language": "python",
   "name": "python3"
  },
  "language_info": {
   "codemirror_mode": {
    "name": "ipython",
    "version": 3
   },
   "file_extension": ".py",
   "mimetype": "text/x-python",
   "name": "python",
   "nbconvert_exporter": "python",
   "pygments_lexer": "ipython3",
   "version": "3.9.13"
  }
 },
 "nbformat": 4,
 "nbformat_minor": 2
}
