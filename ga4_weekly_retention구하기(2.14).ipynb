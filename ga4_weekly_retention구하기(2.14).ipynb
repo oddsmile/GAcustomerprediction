{
 "cells": [
  {
   "cell_type": "markdown",
   "metadata": {},
   "source": [
    "방문 주차에 따른 코호트를 생성하고, 코호트 별로 weekly 리텐션을 구하고 이를 heatmap으로 시각화"
   ]
  },
  {
   "cell_type": "code",
   "execution_count": null,
   "metadata": {},
   "outputs": [],
   "source": []
  },
  {
   "cell_type": "code",
   "execution_count": null,
   "metadata": {},
   "outputs": [],
   "source": [
    "# week 칼럼 만들기 -> 비교하는 칼럼 만들기\n",
    "# df['week'] = df['visitStartTime'].dt.week\n",
    "# month_df = df.groupby('period_month')[['fullVisitorId']].nunique()\n",
    "# retention = 지난주 접속자 수 / 이번주 접속자 수\n",
    "# 어렵네요..\n",
    "# n = len(wau_df) # 53"
   ]
  },
  {
   "cell_type": "code",
   "execution_count": null,
   "metadata": {},
   "outputs": [],
   "source": [
    "# plt.rcParams['figure.figsize'] = [10,8]\n",
    "# plt.pcolor(table)\n",
    "# # 또는 sns.heatmap()\n",
    "# # 피벗테이블의 df를 pandas를 이용해 표현도 가능 df.style.background_gradient\n",
    "# plt.title('Weekly Retention', fontsize=20)\n",
    "# plt.xlabel('week', fontsize=14)\n",
    "# plt.ylabel('visit', fontsize=14)\n",
    "# plt.colorbar()"
   ]
  },
  {
   "cell_type": "code",
   "execution_count": null,
   "metadata": {},
   "outputs": [],
   "source": [
    "# 전처리한 데이터 불러오기\n",
    "import pandas as pd\n",
    "\n",
    "df = pd.read_csv('C://Users//and_c//Desktop//sparta_ga4//train_df3.csv', low_memory = False)"
   ]
  },
  {
   "cell_type": "code",
   "execution_count": null,
   "metadata": {},
   "outputs": [],
   "source": [
    "df.info"
   ]
  },
  {
   "cell_type": "code",
   "execution_count": null,
   "metadata": {},
   "outputs": [],
   "source": [
    "df.head()"
   ]
  },
  {
   "cell_type": "code",
   "execution_count": null,
   "metadata": {},
   "outputs": [],
   "source": [
    "# 데이터프레임에 한 열의 값을 바꾸기 위해서 def함수를 만들고 apply 적용\n",
    "import pandas as pd\n",
    "import datetime #날짜와 시간을 다루는 라이브러리\n",
    "import pytz #다양한 시간대를 처리하기 위해 사용하는 라이브러리\n",
    "\n",
    "# Posix 시간을 utc 시간으로 변환하는 함수\n",
    "def posix_to_utc(visitStartTime):\n",
    "    utc_time = datetime.datetime.utcfromtimestamp(visitStartTime)\n",
    "    return utc_time\n",
    "\n",
    "# Posix 시간을 UTC 지정한 로컬 시간대로 변환하는 함수\n",
    "def posix_to_utc_local(visitStartTime):\n",
    "    utc_time = datetime.datetime.utcfromtimestamp(visitStartTime) #posix -> utc시간대로\n",
    "    local_timezone = pytz.timezone('America/New_York')  # 지역 시간대\n",
    "    return utc_time.astimezone(local_timezone) # 그 지역 시간대로 변환"
   ]
  },
  {
   "cell_type": "code",
   "execution_count": null,
   "metadata": {},
   "outputs": [],
   "source": [
    "df['visitStartTime'] = df['visitStartTime'].apply(posix_to_utc)"
   ]
  },
  {
   "cell_type": "code",
   "execution_count": null,
   "metadata": {},
   "outputs": [],
   "source": [
    "# date 칼럼 추가하기\n",
    "import datetime as dt\n",
    "\n",
    "def get_date(x):\n",
    "    return dt.datetime(x.year, x.month, x., 1)\n",
    "\n",
    "df['date'] = df['visitStartTime'].apply(get_date)\n"
   ]
  },
  {
   "cell_type": "code",
   "execution_count": null,
   "metadata": {},
   "outputs": [],
   "source": []
  }
 ],
 "metadata": {
  "kernelspec": {
   "display_name": "base",
   "language": "python",
   "name": "python3"
  },
  "language_info": {
   "name": "python",
   "version": "3.9.13"
  }
 },
 "nbformat": 4,
 "nbformat_minor": 2
}
