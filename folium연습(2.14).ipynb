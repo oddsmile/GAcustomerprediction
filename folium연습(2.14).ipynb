{
 "cells": [
  {
   "cell_type": "code",
   "execution_count": 1,
   "metadata": {},
   "outputs": [],
   "source": [
    "# folium 라이브러리 설치\n",
    "# !pip install folium\n",
    "\n",
    "import folium"
   ]
  },
  {
   "cell_type": "code",
   "execution_count": 2,
   "metadata": {},
   "outputs": [],
   "source": [
    "# 위도\n",
    "latitude = 37.394946\n",
    "# 경도\n",
    "longitude = 127.111104"
   ]
  },
  {
   "cell_type": "code",
   "execution_count": null,
   "metadata": {},
   "outputs": [],
   "source": [
    "# folium.Map 처음 화면에 나오는 부분을 설정\n",
    "m = folium.Map(location=[latitude, longitude],\n",
    "               zoom_start=17, # 확대 정도로 최대 18\n",
    "               width=750, # 넓이\n",
    "               height=500, # 높이\n",
    "               tiles = 'OpenStreetMap' # 지도 스타일 기본\n",
    "              )\n",
    "m\n",
    "\n",
    "#만약 저장하고 싶다면\n",
    "# m.save('name.html')"
   ]
  },
  {
   "cell_type": "code",
   "execution_count": null,
   "metadata": {},
   "outputs": [],
   "source": [
    "# 마커 표시하기 : folium.Marker([위도, 경도], ... ).add_to(지도)\n",
    "folium.Marker([latitude, longitude], # 마커를 추가할 위도 경도\n",
    "              popup=\"판교역\", # 마우스 클릭시 표기되는 문구\n",
    "              tooltip=\"판교역 입구\" # 마우스 오버시 표기되는 문구 #여기에 이미지나 영상링크를 추가할 수 있음\n",
    "              icon=folium.Icon('red', icon='star')).add_to(m)\n",
    "m"
   ]
  },
  {
   "cell_type": "code",
   "execution_count": null,
   "metadata": {},
   "outputs": [],
   "source": [
    "# 반경 원 표시하기 : folium.CircleMarker([위도, 경도], ... ).add_to(지도)\n",
    "folium.CircleMarker([latitude, longitude],\n",
    "                    color='tomato',\n",
    "                    radius = 50, \n",
    "                    tooltip='판교역 상권').add_to(m)\n",
    "m"
   ]
  },
  {
   "cell_type": "code",
   "execution_count": 4,
   "metadata": {},
   "outputs": [],
   "source": [
    "from folium.plugins import MarkerCluster"
   ]
  },
  {
   "cell_type": "code",
   "execution_count": null,
   "metadata": {},
   "outputs": [],
   "source": []
  }
 ],
 "metadata": {
  "kernelspec": {
   "display_name": "base",
   "language": "python",
   "name": "python3"
  },
  "language_info": {
   "codemirror_mode": {
    "name": "ipython",
    "version": 3
   },
   "file_extension": ".py",
   "mimetype": "text/x-python",
   "name": "python",
   "nbconvert_exporter": "python",
   "pygments_lexer": "ipython3",
   "version": "3.9.13"
  }
 },
 "nbformat": 4,
 "nbformat_minor": 2
}
