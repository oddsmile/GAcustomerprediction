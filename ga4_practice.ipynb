{
 "cells": [
  {
   "cell_type": "code",
   "execution_count": 2,
   "metadata": {},
   "outputs": [],
   "source": [
    "# 라이브러리 불러오기\n",
    "import os\n",
    "import pandas as pd\n",
    "import numpy as np\n",
    "import time"
   ]
  },
  {
   "cell_type": "code",
   "execution_count": 3,
   "metadata": {},
   "outputs": [
    {
     "name": "stderr",
     "output_type": "stream",
     "text": [
      "C:\\Users\\user\\AppData\\Local\\Temp\\ipykernel_4156\\2866665893.py:1: DtypeWarning: Columns (3) have mixed types. Specify dtype option on import or set low_memory=False.\n",
      "  df_test = pd.read_csv('C:/Users/user/Desktop/GA4_project/train.csv')\n"
     ]
    }
   ],
   "source": [
    "df_test = pd.read_csv('C:/Users/user/Desktop/GA4_project/train.csv')\n",
    "# 다음과 같은 경고는 column에 NaN값이나 여러 type데이터가 섞여 있을 때 나타나는 경고\n",
    "# 경고대로 dtpye을 명시해주거나 low_memory = False를 입력하면 된다. 혹은 불러온 다음에 데이터를 다룰 때 참고사항으로 해두면 된다고 함\n",
    "# low_memory 옵션, \n",
    "# 대용량의 데이터를 불러오는 경우 각 칼럼의 데이터 타입(dtype)을 추측하는 것이 매우 많은 메모리를 사용하기 때문에\n",
    "# 대용량의 데이터를 불러올때 메모리 에러가 발생하는 경우 이를 False로 설정할 것을 권장한다."
   ]
  },
  {
   "cell_type": "code",
   "execution_count": 4,
   "metadata": {},
   "outputs": [],
   "source": [
    "df = pd.read_csv('C:/Users/user/Desktop/GA4_project/train.csv', low_memory = False)"
   ]
  },
  {
   "cell_type": "code",
   "execution_count": 5,
   "metadata": {},
   "outputs": [
    {
     "name": "stdout",
     "output_type": "stream",
     "text": [
      "<class 'pandas.core.frame.DataFrame'>\n",
      "RangeIndex: 903653 entries, 0 to 903652\n",
      "Data columns (total 12 columns):\n",
      " #   Column                Non-Null Count   Dtype \n",
      "---  ------                --------------   ----- \n",
      " 0   channelGrouping       903653 non-null  object\n",
      " 1   date                  903653 non-null  int64 \n",
      " 2   device                903653 non-null  object\n",
      " 3   fullVisitorId         903653 non-null  object\n",
      " 4   geoNetwork            903653 non-null  object\n",
      " 5   sessionId             903653 non-null  object\n",
      " 6   socialEngagementType  903653 non-null  object\n",
      " 7   totals                903653 non-null  object\n",
      " 8   trafficSource         903653 non-null  object\n",
      " 9   visitId               903653 non-null  int64 \n",
      " 10  visitNumber           903653 non-null  int64 \n",
      " 11  visitStartTime        903653 non-null  int64 \n",
      "dtypes: int64(4), object(8)\n",
      "memory usage: 82.7+ MB\n"
     ]
    }
   ],
   "source": [
    "df.info()"
   ]
  },
  {
   "cell_type": "markdown",
   "metadata": {},
   "source": [
    "- **channelGrouping** : 사이트에 들어온 경로\n",
    "- **fullVisitorId**  : 유저별로 그룹화 할 때 사용 가능\n",
    "- **date** : 사이트 방문일(날짜 데이터)\n",
    "- **device** : 접속한 브라우저 명\n",
    "- **geoNetwork** : 접속 지역\n",
    "- **totals** : 페이지 방문 횟수 등 로그 데이터\n",
    "- **trafficSource** : 세션이 시작된 트래픽 출처\n",
    "- **visitNumber** : 같은 유저의 방문 횟수 누적 표시\n",
    "- **visitStartTime** : 방문 시작 시간(초단위)(Posix time)"
   ]
  },
  {
   "cell_type": "code",
   "execution_count": 6,
   "metadata": {},
   "outputs": [],
   "source": [
    "# 해당 값 전체 보기\n",
    "# pd.set_option('display.max_colwidth', None)\n",
    "\n",
    "# 출력 옵션 초기화 (선택사항)\n",
    "# pd.reset_option('display.max_colwidth')"
   ]
  },
  {
   "cell_type": "code",
   "execution_count": 7,
   "metadata": {},
   "outputs": [
    {
     "data": {
      "text/html": [
       "<div>\n",
       "<style scoped>\n",
       "    .dataframe tbody tr th:only-of-type {\n",
       "        vertical-align: middle;\n",
       "    }\n",
       "\n",
       "    .dataframe tbody tr th {\n",
       "        vertical-align: top;\n",
       "    }\n",
       "\n",
       "    .dataframe thead th {\n",
       "        text-align: right;\n",
       "    }\n",
       "</style>\n",
       "<table border=\"1\" class=\"dataframe\">\n",
       "  <thead>\n",
       "    <tr style=\"text-align: right;\">\n",
       "      <th></th>\n",
       "      <th>channelGrouping</th>\n",
       "      <th>date</th>\n",
       "      <th>device</th>\n",
       "      <th>fullVisitorId</th>\n",
       "      <th>geoNetwork</th>\n",
       "      <th>sessionId</th>\n",
       "      <th>socialEngagementType</th>\n",
       "      <th>totals</th>\n",
       "      <th>trafficSource</th>\n",
       "      <th>visitId</th>\n",
       "      <th>visitNumber</th>\n",
       "      <th>visitStartTime</th>\n",
       "    </tr>\n",
       "  </thead>\n",
       "  <tbody>\n",
       "    <tr>\n",
       "      <th>903650</th>\n",
       "      <td>Social</td>\n",
       "      <td>20170104</td>\n",
       "      <td>{\"browser\": \"Android Webview\", \"browserVersion...</td>\n",
       "      <td>5744576632396406899</td>\n",
       "      <td>{\"continent\": \"Asia\", \"subContinent\": \"Eastern...</td>\n",
       "      <td>5744576632396406899_1483526434</td>\n",
       "      <td>Not Socially Engaged</td>\n",
       "      <td>{\"visits\": \"1\", \"hits\": \"24\", \"pageviews\": \"21...</td>\n",
       "      <td>{\"referralPath\": \"/yt/about/ko/\", \"campaign\": ...</td>\n",
       "      <td>1483526434</td>\n",
       "      <td>1</td>\n",
       "      <td>1483526434</td>\n",
       "    </tr>\n",
       "    <tr>\n",
       "      <th>903651</th>\n",
       "      <td>Social</td>\n",
       "      <td>20170104</td>\n",
       "      <td>{\"browser\": \"Chrome\", \"browserVersion\": \"not a...</td>\n",
       "      <td>2709355455991750775</td>\n",
       "      <td>{\"continent\": \"Asia\", \"subContinent\": \"Southea...</td>\n",
       "      <td>2709355455991750775_1483592857</td>\n",
       "      <td>Not Socially Engaged</td>\n",
       "      <td>{\"visits\": \"1\", \"hits\": \"24\", \"pageviews\": \"22...</td>\n",
       "      <td>{\"referralPath\": \"/l.php\", \"campaign\": \"(not s...</td>\n",
       "      <td>1483592857</td>\n",
       "      <td>1</td>\n",
       "      <td>1483592864</td>\n",
       "    </tr>\n",
       "    <tr>\n",
       "      <th>903652</th>\n",
       "      <td>Social</td>\n",
       "      <td>20170104</td>\n",
       "      <td>{\"browser\": \"Chrome\", \"browserVersion\": \"not a...</td>\n",
       "      <td>0814900163617805053</td>\n",
       "      <td>{\"continent\": \"Americas\", \"subContinent\": \"Cen...</td>\n",
       "      <td>0814900163617805053_1483574474</td>\n",
       "      <td>Not Socially Engaged</td>\n",
       "      <td>{\"visits\": \"1\", \"hits\": \"31\", \"pageviews\": \"31...</td>\n",
       "      <td>{\"referralPath\": \"/yt/about/es-419/\", \"campaig...</td>\n",
       "      <td>1483574474</td>\n",
       "      <td>1</td>\n",
       "      <td>1483574474</td>\n",
       "    </tr>\n",
       "  </tbody>\n",
       "</table>\n",
       "</div>"
      ],
      "text/plain": [
       "       channelGrouping      date  \\\n",
       "903650          Social  20170104   \n",
       "903651          Social  20170104   \n",
       "903652          Social  20170104   \n",
       "\n",
       "                                                   device  \\\n",
       "903650  {\"browser\": \"Android Webview\", \"browserVersion...   \n",
       "903651  {\"browser\": \"Chrome\", \"browserVersion\": \"not a...   \n",
       "903652  {\"browser\": \"Chrome\", \"browserVersion\": \"not a...   \n",
       "\n",
       "              fullVisitorId  \\\n",
       "903650  5744576632396406899   \n",
       "903651  2709355455991750775   \n",
       "903652  0814900163617805053   \n",
       "\n",
       "                                               geoNetwork  \\\n",
       "903650  {\"continent\": \"Asia\", \"subContinent\": \"Eastern...   \n",
       "903651  {\"continent\": \"Asia\", \"subContinent\": \"Southea...   \n",
       "903652  {\"continent\": \"Americas\", \"subContinent\": \"Cen...   \n",
       "\n",
       "                             sessionId  socialEngagementType  \\\n",
       "903650  5744576632396406899_1483526434  Not Socially Engaged   \n",
       "903651  2709355455991750775_1483592857  Not Socially Engaged   \n",
       "903652  0814900163617805053_1483574474  Not Socially Engaged   \n",
       "\n",
       "                                                   totals  \\\n",
       "903650  {\"visits\": \"1\", \"hits\": \"24\", \"pageviews\": \"21...   \n",
       "903651  {\"visits\": \"1\", \"hits\": \"24\", \"pageviews\": \"22...   \n",
       "903652  {\"visits\": \"1\", \"hits\": \"31\", \"pageviews\": \"31...   \n",
       "\n",
       "                                            trafficSource     visitId  \\\n",
       "903650  {\"referralPath\": \"/yt/about/ko/\", \"campaign\": ...  1483526434   \n",
       "903651  {\"referralPath\": \"/l.php\", \"campaign\": \"(not s...  1483592857   \n",
       "903652  {\"referralPath\": \"/yt/about/es-419/\", \"campaig...  1483574474   \n",
       "\n",
       "        visitNumber  visitStartTime  \n",
       "903650            1      1483526434  \n",
       "903651            1      1483592864  \n",
       "903652            1      1483574474  "
      ]
     },
     "execution_count": 7,
     "metadata": {},
     "output_type": "execute_result"
    }
   ],
   "source": [
    "# pd.reset_option('display.max_colwidth')\n",
    "df.tail(3)"
   ]
  },
  {
   "cell_type": "code",
   "execution_count": 8,
   "metadata": {},
   "outputs": [
    {
     "name": "stdout",
     "output_type": "stream",
     "text": [
      "                                              device\n",
      "0  {\"browser\": \"Chrome\", \"browserVersion\": \"not a...\n",
      "1  {\"browser\": \"Firefox\", \"browserVersion\": \"not ...\n",
      "                                              totals\n",
      "0  {\"visits\": \"1\", \"hits\": \"1\", \"pageviews\": \"1\",...\n",
      "1  {\"visits\": \"1\", \"hits\": \"1\", \"pageviews\": \"1\",...\n",
      "                                       trafficSource\n",
      "0  {\"campaign\": \"(not set)\", \"source\": \"google\", ...\n",
      "1  {\"campaign\": \"(not set)\", \"source\": \"google\", ...\n"
     ]
    }
   ],
   "source": [
    "# 해당 값 전체 보기\n",
    "# pd.set_option('display.max_colwidth', None)\n",
    "print(df[['device']][:2])\n",
    "print(df[['totals']][:2])\n",
    "print(df[['trafficSource']][:2])\n",
    "# 열 안의 값들이 json 형식으로 입력되어 있음\n",
    "# 어떻게 분리해서 볼 수 있을지 고민하다가 다른 분들은 어떻게 했는지 참고했더니\n",
    "# 결국 데이터를 분석하기 위해서는 이를 분리할 필요가 있다."
   ]
  },
  {
   "cell_type": "markdown",
   "metadata": {},
   "source": [
    "- json형식으로 입력된 열들을 분리시켜 다시 df 불러오기 (방법 : kaggle 다른 분의 코드 참고)"
   ]
  },
  {
   "cell_type": "code",
   "execution_count": 9,
   "metadata": {},
   "outputs": [],
   "source": [
    "import os \n",
    "import pandas as pd\n",
    "import numpy as np\n",
    "import json #json 형식 다루는 라이브러리\n",
    "from pandas import json_normalize\n",
    "\n",
    "def load_df(csv_path='C:/Users/user/Desktop/GA4_project/train.csv', nrows=None): # None은 모든 행의 데이터를 불러오기를 뜻함\n",
    "    JSON_COLUMNS = ['device', 'geoNetwork', 'totals', 'trafficSource']\n",
    "    \n",
    "    df = pd.read_csv(csv_path, \n",
    "                     converters={column: json.loads for column in JSON_COLUMNS}, \n",
    "                     dtype={'fullVisitorId': 'str'}, # Important! 부분에서 str형식으로 바꿔서 보라고 언급\n",
    "                     nrows=nrows)\n",
    "    # converters : 각 column에 해당하는 값에 json.loads 함수를 실행하여 다른 형태로 변환하여 불러온다는 의미 \n",
    "    for column in JSON_COLUMNS:\n",
    "        column_as_df = json_normalize(df[column]) # json_normalize : JSON 데이터를 평평한(flat) 테이블 형태로 변환해주는 함수\n",
    "        column_as_df.columns = [f\"{column}_{subcolumn}\" for subcolumn in column_as_df.columns]\n",
    "        df = df.drop(column, axis=1).merge(column_as_df, right_index=True, left_index=True)\n",
    "    print(f\"Loaded {os.path.basename(csv_path)}. Shape: {df.shape}\")\n",
    "    return df"
   ]
  },
  {
   "cell_type": "code",
   "execution_count": 10,
   "metadata": {},
   "outputs": [],
   "source": [
    "#train_df = load_df()"
   ]
  },
  {
   "cell_type": "code",
   "execution_count": 11,
   "metadata": {},
   "outputs": [],
   "source": [
    "#train_df.columns"
   ]
  },
  {
   "cell_type": "markdown",
   "metadata": {},
   "source": [
    "- POSIX시간을 UTC시간으로 바꾸는 작업"
   ]
  },
  {
   "cell_type": "code",
   "execution_count": 12,
   "metadata": {},
   "outputs": [],
   "source": [
    "# 데이터프레임에 한 열의 값을 바꾸기 위해서 def함수를 만들고 apply 적용\n",
    "import pandas as pd\n",
    "import datetime #날짜와 시간을 다루는 라이브러리\n",
    "import pytz #다양한 시간대를 처리하기 위해 사용하는 라이브러리\n",
    "\n",
    "# Posix 시간을 utc 시간으로 변환하는 함수\n",
    "def posix_to_utc(visitStartTime):\n",
    "    utc_time = datetime.datetime.utcfromtimestamp(visitStartTime)\n",
    "    return utc_time\n",
    "\n",
    "# Posix 시간을 UTC 지정한 로컬 시간대로 변환하는 함수\n",
    "def posix_to_utc_local(visitStartTime):\n",
    "    utc_time = datetime.datetime.utcfromtimestamp(visitStartTime) #posix -> utc시간대로\n",
    "    local_timezone = pytz.timezone('America/New_York')  # 지역 시간대\n",
    "    return utc_time.astimezone(local_timezone) # 그 지역 시간대로 변환\n"
   ]
  },
  {
   "cell_type": "code",
   "execution_count": 13,
   "metadata": {},
   "outputs": [],
   "source": [
    "df_test['utc_local_time'] = df_test['visitStartTime'].apply(posix_to_utc)"
   ]
  },
  {
   "cell_type": "code",
   "execution_count": 14,
   "metadata": {},
   "outputs": [
    {
     "data": {
      "text/html": [
       "<div>\n",
       "<style scoped>\n",
       "    .dataframe tbody tr th:only-of-type {\n",
       "        vertical-align: middle;\n",
       "    }\n",
       "\n",
       "    .dataframe tbody tr th {\n",
       "        vertical-align: top;\n",
       "    }\n",
       "\n",
       "    .dataframe thead th {\n",
       "        text-align: right;\n",
       "    }\n",
       "</style>\n",
       "<table border=\"1\" class=\"dataframe\">\n",
       "  <thead>\n",
       "    <tr style=\"text-align: right;\">\n",
       "      <th></th>\n",
       "      <th>date</th>\n",
       "      <th>utc_local_time</th>\n",
       "    </tr>\n",
       "  </thead>\n",
       "  <tbody>\n",
       "    <tr>\n",
       "      <th>0</th>\n",
       "      <td>20160902</td>\n",
       "      <td>2016-09-02 15:33:05</td>\n",
       "    </tr>\n",
       "    <tr>\n",
       "      <th>1</th>\n",
       "      <td>20160902</td>\n",
       "      <td>2016-09-03 05:22:27</td>\n",
       "    </tr>\n",
       "    <tr>\n",
       "      <th>2</th>\n",
       "      <td>20160902</td>\n",
       "      <td>2016-09-03 01:16:26</td>\n",
       "    </tr>\n",
       "    <tr>\n",
       "      <th>3</th>\n",
       "      <td>20160902</td>\n",
       "      <td>2016-09-03 05:40:13</td>\n",
       "    </tr>\n",
       "    <tr>\n",
       "      <th>4</th>\n",
       "      <td>20160902</td>\n",
       "      <td>2016-09-02 13:23:20</td>\n",
       "    </tr>\n",
       "    <tr>\n",
       "      <th>...</th>\n",
       "      <td>...</td>\n",
       "      <td>...</td>\n",
       "    </tr>\n",
       "    <tr>\n",
       "      <th>903648</th>\n",
       "      <td>20170104</td>\n",
       "      <td>2017-01-04 18:32:30</td>\n",
       "    </tr>\n",
       "    <tr>\n",
       "      <th>903649</th>\n",
       "      <td>20170104</td>\n",
       "      <td>2017-01-04 15:29:58</td>\n",
       "    </tr>\n",
       "    <tr>\n",
       "      <th>903650</th>\n",
       "      <td>20170104</td>\n",
       "      <td>2017-01-04 10:40:34</td>\n",
       "    </tr>\n",
       "    <tr>\n",
       "      <th>903651</th>\n",
       "      <td>20170104</td>\n",
       "      <td>2017-01-05 05:07:44</td>\n",
       "    </tr>\n",
       "    <tr>\n",
       "      <th>903652</th>\n",
       "      <td>20170104</td>\n",
       "      <td>2017-01-05 00:01:14</td>\n",
       "    </tr>\n",
       "  </tbody>\n",
       "</table>\n",
       "<p>903653 rows × 2 columns</p>\n",
       "</div>"
      ],
      "text/plain": [
       "            date      utc_local_time\n",
       "0       20160902 2016-09-02 15:33:05\n",
       "1       20160902 2016-09-03 05:22:27\n",
       "2       20160902 2016-09-03 01:16:26\n",
       "3       20160902 2016-09-03 05:40:13\n",
       "4       20160902 2016-09-02 13:23:20\n",
       "...          ...                 ...\n",
       "903648  20170104 2017-01-04 18:32:30\n",
       "903649  20170104 2017-01-04 15:29:58\n",
       "903650  20170104 2017-01-04 10:40:34\n",
       "903651  20170104 2017-01-05 05:07:44\n",
       "903652  20170104 2017-01-05 00:01:14\n",
       "\n",
       "[903653 rows x 2 columns]"
      ]
     },
     "execution_count": 14,
     "metadata": {},
     "output_type": "execute_result"
    }
   ],
   "source": [
    "df_test[['date','utc_local_time']]"
   ]
  },
  {
   "cell_type": "code",
   "execution_count": null,
   "metadata": {},
   "outputs": [],
   "source": [
    "proproccessed_df = "
   ]
  }
 ],
 "metadata": {
  "kernelspec": {
   "display_name": "base",
   "language": "python",
   "name": "python3"
  },
  "language_info": {
   "codemirror_mode": {
    "name": "ipython",
    "version": 3
   },
   "file_extension": ".py",
   "mimetype": "text/x-python",
   "name": "python",
   "nbconvert_exporter": "python",
   "pygments_lexer": "ipython3",
   "version": "3.8.6"
  }
 },
 "nbformat": 4,
 "nbformat_minor": 2
}
